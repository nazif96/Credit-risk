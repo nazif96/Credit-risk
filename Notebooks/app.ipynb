{
 "cells": [
  {
   "cell_type": "markdown",
   "metadata": {},
   "source": [
    "## app_API"
   ]
  },
  {
   "cell_type": "code",
   "execution_count": 1,
   "metadata": {},
   "outputs": [],
   "source": [
    "import os\n",
    "import warnings\n",
    "import pandas as pd\n",
    "import matplotlib.pyplot as plt\n",
    "import seaborn as sns\n",
    "import numpy as np\n",
    "from sklearn.model_selection import train_test_split\n",
    "from sklearn.preprocessing import MinMaxScaler\n",
    "from sklearn.preprocessing import OneHotEncoder\n",
    "from sklearn.linear_model import LogisticRegression\n",
    "from sklearn.ensemble import RandomForestClassifier\n",
    "from sklearn.tree import DecisionTreeClassifier\n",
    "from xgboost import XGBClassifier\n",
    "from sklearn.model_selection import RandomizedSearchCV\n",
    "from sklearn.metrics import accuracy_score\n",
    "from scipy.stats import randint\n",
    "from sklearn.model_selection import GridSearchCV\n",
    "from sklearn.preprocessing import LabelEncoder, StandardScaler\n",
    "from sklearn.metrics import classification_report, confusion_matrix, accuracy_score\n",
    "\n",
    "from scipy.stats import chi2_contingency\n",
    "\n",
    "\n",
    "%matplotlib inline\n",
    "sns.set_theme(color_codes=True)\n",
    "\n",
    "warnings.filterwarnings('ignore')"
   ]
  },
  {
   "cell_type": "code",
   "execution_count": 2,
   "metadata": {},
   "outputs": [
    {
     "data": {
      "text/html": [
       "<div>\n",
       "<style scoped>\n",
       "    .dataframe tbody tr th:only-of-type {\n",
       "        vertical-align: middle;\n",
       "    }\n",
       "\n",
       "    .dataframe tbody tr th {\n",
       "        vertical-align: top;\n",
       "    }\n",
       "\n",
       "    .dataframe thead th {\n",
       "        text-align: right;\n",
       "    }\n",
       "</style>\n",
       "<table border=\"1\" class=\"dataframe\">\n",
       "  <thead>\n",
       "    <tr style=\"text-align: right;\">\n",
       "      <th></th>\n",
       "      <th>Durations</th>\n",
       "      <th>Credit history</th>\n",
       "      <th>Credit_Purpose</th>\n",
       "      <th>Credit amount</th>\n",
       "      <th>Installment_Rate_Percent</th>\n",
       "      <th>Other debtors / guarantors</th>\n",
       "      <th>Residence_Years</th>\n",
       "      <th>Property</th>\n",
       "      <th>Age in years</th>\n",
       "      <th>Other_Inst_Plans</th>\n",
       "      <th>...</th>\n",
       "      <th>Num_Existing_Credits</th>\n",
       "      <th>Job</th>\n",
       "      <th>Liable_People</th>\n",
       "      <th>Telephone</th>\n",
       "      <th>Foreign worker</th>\n",
       "      <th>Checking_Account_Status</th>\n",
       "      <th>Gender</th>\n",
       "      <th>Status</th>\n",
       "      <th>Years_Employments</th>\n",
       "      <th>Saving_Status</th>\n",
       "    </tr>\n",
       "  </thead>\n",
       "  <tbody>\n",
       "    <tr>\n",
       "      <th>0</th>\n",
       "      <td>6</td>\n",
       "      <td>critical/other existing credit</td>\n",
       "      <td>radio/tv</td>\n",
       "      <td>1169</td>\n",
       "      <td>4</td>\n",
       "      <td>none</td>\n",
       "      <td>4</td>\n",
       "      <td>real estate</td>\n",
       "      <td>67</td>\n",
       "      <td>none</td>\n",
       "      <td>...</td>\n",
       "      <td>2</td>\n",
       "      <td>skilled</td>\n",
       "      <td>1</td>\n",
       "      <td>yes</td>\n",
       "      <td>yes</td>\n",
       "      <td>good</td>\n",
       "      <td>male</td>\n",
       "      <td>single</td>\n",
       "      <td>7 or more years</td>\n",
       "      <td>no savings</td>\n",
       "    </tr>\n",
       "    <tr>\n",
       "      <th>1</th>\n",
       "      <td>48</td>\n",
       "      <td>existing paid</td>\n",
       "      <td>radio/tv</td>\n",
       "      <td>5951</td>\n",
       "      <td>2</td>\n",
       "      <td>none</td>\n",
       "      <td>2</td>\n",
       "      <td>real estate</td>\n",
       "      <td>22</td>\n",
       "      <td>none</td>\n",
       "      <td>...</td>\n",
       "      <td>1</td>\n",
       "      <td>skilled</td>\n",
       "      <td>1</td>\n",
       "      <td>none</td>\n",
       "      <td>yes</td>\n",
       "      <td>bad</td>\n",
       "      <td>female</td>\n",
       "      <td>div/dep/mar</td>\n",
       "      <td>1-3 years</td>\n",
       "      <td>less than 100</td>\n",
       "    </tr>\n",
       "    <tr>\n",
       "      <th>2</th>\n",
       "      <td>12</td>\n",
       "      <td>critical/other existing credit</td>\n",
       "      <td>education</td>\n",
       "      <td>2096</td>\n",
       "      <td>2</td>\n",
       "      <td>none</td>\n",
       "      <td>3</td>\n",
       "      <td>real estate</td>\n",
       "      <td>49</td>\n",
       "      <td>none</td>\n",
       "      <td>...</td>\n",
       "      <td>1</td>\n",
       "      <td>unskilled_resident</td>\n",
       "      <td>2</td>\n",
       "      <td>none</td>\n",
       "      <td>yes</td>\n",
       "      <td>good</td>\n",
       "      <td>male</td>\n",
       "      <td>single</td>\n",
       "      <td>4-6 years</td>\n",
       "      <td>less than 100</td>\n",
       "    </tr>\n",
       "    <tr>\n",
       "      <th>3</th>\n",
       "      <td>42</td>\n",
       "      <td>existing paid</td>\n",
       "      <td>furniture/equipment</td>\n",
       "      <td>7882</td>\n",
       "      <td>2</td>\n",
       "      <td>guarantor</td>\n",
       "      <td>4</td>\n",
       "      <td>life insurance</td>\n",
       "      <td>45</td>\n",
       "      <td>none</td>\n",
       "      <td>...</td>\n",
       "      <td>1</td>\n",
       "      <td>skilled</td>\n",
       "      <td>2</td>\n",
       "      <td>none</td>\n",
       "      <td>yes</td>\n",
       "      <td>good</td>\n",
       "      <td>male</td>\n",
       "      <td>single</td>\n",
       "      <td>4-6 years</td>\n",
       "      <td>less than 100</td>\n",
       "    </tr>\n",
       "    <tr>\n",
       "      <th>4</th>\n",
       "      <td>24</td>\n",
       "      <td>delayed previously</td>\n",
       "      <td>new car</td>\n",
       "      <td>4870</td>\n",
       "      <td>3</td>\n",
       "      <td>none</td>\n",
       "      <td>4</td>\n",
       "      <td>no known property</td>\n",
       "      <td>53</td>\n",
       "      <td>none</td>\n",
       "      <td>...</td>\n",
       "      <td>2</td>\n",
       "      <td>skilled</td>\n",
       "      <td>2</td>\n",
       "      <td>none</td>\n",
       "      <td>yes</td>\n",
       "      <td>bad</td>\n",
       "      <td>male</td>\n",
       "      <td>single</td>\n",
       "      <td>1-3 years</td>\n",
       "      <td>less than 100</td>\n",
       "    </tr>\n",
       "  </tbody>\n",
       "</table>\n",
       "<p>5 rows × 21 columns</p>\n",
       "</div>"
      ],
      "text/plain": [
       "   Durations                  Credit history       Credit_Purpose  \\\n",
       "0          6  critical/other existing credit             radio/tv   \n",
       "1         48                   existing paid             radio/tv   \n",
       "2         12  critical/other existing credit            education   \n",
       "3         42                   existing paid  furniture/equipment   \n",
       "4         24              delayed previously              new car   \n",
       "\n",
       "   Credit amount  Installment_Rate_Percent Other debtors / guarantors  \\\n",
       "0           1169                         4                       none   \n",
       "1           5951                         2                       none   \n",
       "2           2096                         2                       none   \n",
       "3           7882                         2                  guarantor   \n",
       "4           4870                         3                       none   \n",
       "\n",
       "   Residence_Years           Property  Age in years Other_Inst_Plans  ...  \\\n",
       "0                4        real estate            67             none  ...   \n",
       "1                2        real estate            22             none  ...   \n",
       "2                3        real estate            49             none  ...   \n",
       "3                4     life insurance            45             none  ...   \n",
       "4                4  no known property            53             none  ...   \n",
       "\n",
       "  Num_Existing_Credits                 Job Liable_People  Telephone  \\\n",
       "0                    2             skilled             1        yes   \n",
       "1                    1             skilled             1       none   \n",
       "2                    1  unskilled_resident             2       none   \n",
       "3                    1             skilled             2       none   \n",
       "4                    2             skilled             2       none   \n",
       "\n",
       "  Foreign worker Checking_Account_Status  Gender       Status  \\\n",
       "0            yes                    good    male       single   \n",
       "1            yes                     bad  female  div/dep/mar   \n",
       "2            yes                    good    male       single   \n",
       "3            yes                    good    male       single   \n",
       "4            yes                     bad    male       single   \n",
       "\n",
       "  Years_Employments  Saving_Status  \n",
       "0   7 or more years     no savings  \n",
       "1         1-3 years  less than 100  \n",
       "2         4-6 years  less than 100  \n",
       "3         4-6 years  less than 100  \n",
       "4         1-3 years  less than 100  \n",
       "\n",
       "[5 rows x 21 columns]"
      ]
     },
     "execution_count": 2,
     "metadata": {},
     "output_type": "execute_result"
    }
   ],
   "source": [
    "path = os.getcwd()\n",
    "chemin_repertoire = os.path.join(path, '../Data')\n",
    "\n",
    "# chemin fichier\n",
    "chemin_data = os.path.join(chemin_repertoire, 'Credit_cleaned.csv')\n",
    "\n",
    "df = pd.read_csv(chemin_data)\n",
    "df.head()"
   ]
  },
  {
   "cell_type": "code",
   "execution_count": 3,
   "metadata": {},
   "outputs": [
    {
     "data": {
      "text/plain": [
       "Index(['Durations', 'Credit history', 'Credit_Purpose', 'Credit amount',\n",
       "       'Installment_Rate_Percent', 'Other debtors / guarantors',\n",
       "       'Residence_Years', 'Property', 'Age in years', 'Other_Inst_Plans',\n",
       "       'Housing', 'Num_Existing_Credits', 'Job', 'Liable_People', 'Telephone',\n",
       "       'Foreign worker', 'Checking_Account_Status', 'Gender', 'Status',\n",
       "       'Years_Employments', 'Saving_Status'],\n",
       "      dtype='object')"
      ]
     },
     "execution_count": 3,
     "metadata": {},
     "output_type": "execute_result"
    }
   ],
   "source": [
    "df.columns"
   ]
  },
  {
   "cell_type": "markdown",
   "metadata": {},
   "source": [
    "Selection de quelques variables pertinentes "
   ]
  },
  {
   "cell_type": "code",
   "execution_count": 4,
   "metadata": {},
   "outputs": [
    {
     "data": {
      "text/html": [
       "<div>\n",
       "<style scoped>\n",
       "    .dataframe tbody tr th:only-of-type {\n",
       "        vertical-align: middle;\n",
       "    }\n",
       "\n",
       "    .dataframe tbody tr th {\n",
       "        vertical-align: top;\n",
       "    }\n",
       "\n",
       "    .dataframe thead th {\n",
       "        text-align: right;\n",
       "    }\n",
       "</style>\n",
       "<table border=\"1\" class=\"dataframe\">\n",
       "  <thead>\n",
       "    <tr style=\"text-align: right;\">\n",
       "      <th></th>\n",
       "      <th>Credit_Purpose</th>\n",
       "      <th>Credit history</th>\n",
       "      <th>Credit amount</th>\n",
       "      <th>Checking_Account_Status</th>\n",
       "      <th>Status</th>\n",
       "      <th>Saving_Status</th>\n",
       "    </tr>\n",
       "  </thead>\n",
       "  <tbody>\n",
       "    <tr>\n",
       "      <th>0</th>\n",
       "      <td>radio/tv</td>\n",
       "      <td>critical/other existing credit</td>\n",
       "      <td>1169</td>\n",
       "      <td>good</td>\n",
       "      <td>single</td>\n",
       "      <td>no savings</td>\n",
       "    </tr>\n",
       "    <tr>\n",
       "      <th>1</th>\n",
       "      <td>radio/tv</td>\n",
       "      <td>existing paid</td>\n",
       "      <td>5951</td>\n",
       "      <td>bad</td>\n",
       "      <td>div/dep/mar</td>\n",
       "      <td>less than 100</td>\n",
       "    </tr>\n",
       "    <tr>\n",
       "      <th>2</th>\n",
       "      <td>education</td>\n",
       "      <td>critical/other existing credit</td>\n",
       "      <td>2096</td>\n",
       "      <td>good</td>\n",
       "      <td>single</td>\n",
       "      <td>less than 100</td>\n",
       "    </tr>\n",
       "    <tr>\n",
       "      <th>3</th>\n",
       "      <td>furniture/equipment</td>\n",
       "      <td>existing paid</td>\n",
       "      <td>7882</td>\n",
       "      <td>good</td>\n",
       "      <td>single</td>\n",
       "      <td>less than 100</td>\n",
       "    </tr>\n",
       "    <tr>\n",
       "      <th>4</th>\n",
       "      <td>new car</td>\n",
       "      <td>delayed previously</td>\n",
       "      <td>4870</td>\n",
       "      <td>bad</td>\n",
       "      <td>single</td>\n",
       "      <td>less than 100</td>\n",
       "    </tr>\n",
       "    <tr>\n",
       "      <th>...</th>\n",
       "      <td>...</td>\n",
       "      <td>...</td>\n",
       "      <td>...</td>\n",
       "      <td>...</td>\n",
       "      <td>...</td>\n",
       "      <td>...</td>\n",
       "    </tr>\n",
       "    <tr>\n",
       "      <th>995</th>\n",
       "      <td>furniture/equipment</td>\n",
       "      <td>existing paid</td>\n",
       "      <td>1736</td>\n",
       "      <td>good</td>\n",
       "      <td>div/dep/mar</td>\n",
       "      <td>less than 100</td>\n",
       "    </tr>\n",
       "    <tr>\n",
       "      <th>996</th>\n",
       "      <td>used car</td>\n",
       "      <td>existing paid</td>\n",
       "      <td>3857</td>\n",
       "      <td>good</td>\n",
       "      <td>div/sep</td>\n",
       "      <td>less than 100</td>\n",
       "    </tr>\n",
       "    <tr>\n",
       "      <th>997</th>\n",
       "      <td>radio/tv</td>\n",
       "      <td>existing paid</td>\n",
       "      <td>804</td>\n",
       "      <td>good</td>\n",
       "      <td>single</td>\n",
       "      <td>less than 100</td>\n",
       "    </tr>\n",
       "    <tr>\n",
       "      <th>998</th>\n",
       "      <td>radio/tv</td>\n",
       "      <td>existing paid</td>\n",
       "      <td>1845</td>\n",
       "      <td>bad</td>\n",
       "      <td>single</td>\n",
       "      <td>less than 100</td>\n",
       "    </tr>\n",
       "    <tr>\n",
       "      <th>999</th>\n",
       "      <td>used car</td>\n",
       "      <td>critical/other existing credit</td>\n",
       "      <td>4576</td>\n",
       "      <td>good</td>\n",
       "      <td>single</td>\n",
       "      <td>100-500</td>\n",
       "    </tr>\n",
       "  </tbody>\n",
       "</table>\n",
       "<p>1000 rows × 6 columns</p>\n",
       "</div>"
      ],
      "text/plain": [
       "          Credit_Purpose                  Credit history  Credit amount  \\\n",
       "0               radio/tv  critical/other existing credit           1169   \n",
       "1               radio/tv                   existing paid           5951   \n",
       "2              education  critical/other existing credit           2096   \n",
       "3    furniture/equipment                   existing paid           7882   \n",
       "4                new car              delayed previously           4870   \n",
       "..                   ...                             ...            ...   \n",
       "995  furniture/equipment                   existing paid           1736   \n",
       "996             used car                   existing paid           3857   \n",
       "997             radio/tv                   existing paid            804   \n",
       "998             radio/tv                   existing paid           1845   \n",
       "999             used car  critical/other existing credit           4576   \n",
       "\n",
       "    Checking_Account_Status       Status  Saving_Status  \n",
       "0                      good       single     no savings  \n",
       "1                       bad  div/dep/mar  less than 100  \n",
       "2                      good       single  less than 100  \n",
       "3                      good       single  less than 100  \n",
       "4                       bad       single  less than 100  \n",
       "..                      ...          ...            ...  \n",
       "995                    good  div/dep/mar  less than 100  \n",
       "996                    good      div/sep  less than 100  \n",
       "997                    good       single  less than 100  \n",
       "998                     bad       single  less than 100  \n",
       "999                    good       single        100-500  \n",
       "\n",
       "[1000 rows x 6 columns]"
      ]
     },
     "execution_count": 4,
     "metadata": {},
     "output_type": "execute_result"
    }
   ],
   "source": [
    "df = df[['Credit_Purpose', 'Credit history', 'Credit amount', 'Checking_Account_Status', 'Status',  'Saving_Status']]\n",
    "df"
   ]
  },
  {
   "cell_type": "code",
   "execution_count": 5,
   "metadata": {},
   "outputs": [
    {
     "name": "stdout",
     "output_type": "stream",
     "text": [
      "<class 'pandas.core.frame.DataFrame'>\n",
      "RangeIndex: 1000 entries, 0 to 999\n",
      "Data columns (total 6 columns):\n",
      " #   Column                   Non-Null Count  Dtype \n",
      "---  ------                   --------------  ----- \n",
      " 0   Credit_Purpose           1000 non-null   object\n",
      " 1   Credit history           1000 non-null   object\n",
      " 2   Credit amount            1000 non-null   int64 \n",
      " 3   Checking_Account_Status  1000 non-null   object\n",
      " 4   Status                   1000 non-null   object\n",
      " 5   Saving_Status            1000 non-null   object\n",
      "dtypes: int64(1), object(5)\n",
      "memory usage: 47.0+ KB\n"
     ]
    }
   ],
   "source": [
    "df.info()"
   ]
  },
  {
   "cell_type": "code",
   "execution_count": 6,
   "metadata": {},
   "outputs": [
    {
     "name": "stdout",
     "output_type": "stream",
     "text": [
      "Modalités de Credit_Purpose :\n",
      "Credit_Purpose\n",
      "radio/tv               280\n",
      "new car                234\n",
      "furniture/equipment    181\n",
      "used car               103\n",
      "business                97\n",
      "education               50\n",
      "repairs                 22\n",
      "domestic appliance      12\n",
      "other                   12\n",
      "retraining               9\n",
      "Name: count, dtype: int64\n",
      "----------------------------------------\n",
      "Modalités de Credit history :\n",
      "Credit history\n",
      "existing paid                     530\n",
      "critical/other existing credit    293\n",
      "delayed previously                 88\n",
      "all paid                           49\n",
      "no credits/all paid                40\n",
      "Name: count, dtype: int64\n",
      "----------------------------------------\n",
      "Modalités de Checking_Account_Status :\n",
      "Checking_Account_Status\n",
      "good    700\n",
      "bad     300\n",
      "Name: count, dtype: int64\n",
      "----------------------------------------\n",
      "Modalités de Status :\n",
      "Status\n",
      "single         548\n",
      "div/dep/mar    310\n",
      "mar/wid         92\n",
      "div/sep         50\n",
      "Name: count, dtype: int64\n",
      "----------------------------------------\n",
      "Modalités de Saving_Status :\n",
      "Saving_Status\n",
      "less than 100     603\n",
      "no savings        183\n",
      "100-500           103\n",
      "500-1000           63\n",
      "more than 1000     48\n",
      "Name: count, dtype: int64\n",
      "----------------------------------------\n"
     ]
    }
   ],
   "source": [
    "for col in df.select_dtypes(include=['object', 'category']).columns:\n",
    "    print(f\"Modalités de {col} :\")\n",
    "    print(df[col].value_counts())  # Ajoute normalize=True pour voir les proportions\n",
    "    print(\"-\" * 40)"
   ]
  },
  {
   "cell_type": "code",
   "execution_count": 30,
   "metadata": {},
   "outputs": [
    {
     "data": {
      "text/plain": [
       "Index(['Credit_Purpose', 'Credit_history', 'Credit_amount', 'Account_status',\n",
       "       'Status', 'Saving_Status'],\n",
       "      dtype='object')"
      ]
     },
     "execution_count": 30,
     "metadata": {},
     "output_type": "execute_result"
    }
   ],
   "source": [
    "df.columns"
   ]
  },
  {
   "cell_type": "code",
   "execution_count": 7,
   "metadata": {},
   "outputs": [],
   "source": [
    "df = df.rename(columns= {\n",
    "    'Credit_Purpose' : 'Credit_Purpose',\n",
    "    'Credit history' : 'Credit_history',\n",
    "    'Checking_Account_Status' : 'Account_status',\n",
    "    'Credit amount': 'Credit_amount'\n",
    "    \n",
    "})"
   ]
  },
  {
   "cell_type": "code",
   "execution_count": 8,
   "metadata": {},
   "outputs": [],
   "source": [
    "df.columns = df.columns.str.lower()\n",
    "\n",
    "#df.columns = df.columns.str.lower().str.replace(\" \", \"_\")\n"
   ]
  },
  {
   "cell_type": "code",
   "execution_count": 9,
   "metadata": {},
   "outputs": [
    {
     "data": {
      "text/html": [
       "<div>\n",
       "<style scoped>\n",
       "    .dataframe tbody tr th:only-of-type {\n",
       "        vertical-align: middle;\n",
       "    }\n",
       "\n",
       "    .dataframe tbody tr th {\n",
       "        vertical-align: top;\n",
       "    }\n",
       "\n",
       "    .dataframe thead th {\n",
       "        text-align: right;\n",
       "    }\n",
       "</style>\n",
       "<table border=\"1\" class=\"dataframe\">\n",
       "  <thead>\n",
       "    <tr style=\"text-align: right;\">\n",
       "      <th></th>\n",
       "      <th>credit_purpose</th>\n",
       "      <th>credit_history</th>\n",
       "      <th>credit_amount</th>\n",
       "      <th>account_status</th>\n",
       "      <th>status</th>\n",
       "      <th>saving_status</th>\n",
       "    </tr>\n",
       "  </thead>\n",
       "  <tbody>\n",
       "    <tr>\n",
       "      <th>0</th>\n",
       "      <td>radio/tv</td>\n",
       "      <td>critical/other existing credit</td>\n",
       "      <td>1169</td>\n",
       "      <td>good</td>\n",
       "      <td>single</td>\n",
       "      <td>no savings</td>\n",
       "    </tr>\n",
       "    <tr>\n",
       "      <th>1</th>\n",
       "      <td>radio/tv</td>\n",
       "      <td>existing paid</td>\n",
       "      <td>5951</td>\n",
       "      <td>bad</td>\n",
       "      <td>div/dep/mar</td>\n",
       "      <td>less than 100</td>\n",
       "    </tr>\n",
       "  </tbody>\n",
       "</table>\n",
       "</div>"
      ],
      "text/plain": [
       "  credit_purpose                  credit_history  credit_amount  \\\n",
       "0       radio/tv  critical/other existing credit           1169   \n",
       "1       radio/tv                   existing paid           5951   \n",
       "\n",
       "  account_status       status  saving_status  \n",
       "0           good       single     no savings  \n",
       "1            bad  div/dep/mar  less than 100  "
      ]
     },
     "execution_count": 9,
     "metadata": {},
     "output_type": "execute_result"
    }
   ],
   "source": [
    "df.head(2)"
   ]
  },
  {
   "cell_type": "code",
   "execution_count": 10,
   "metadata": {},
   "outputs": [
    {
     "name": "stdout",
     "output_type": "stream",
     "text": [
      "Nouvelles colonnes ajoutées : ['credit_purpose_grouped', 'credit_history_grouped', 'status_grouped', 'saving_status_grouped']\n"
     ]
    }
   ],
   "source": [
    "# Regroupement pour Credit_Purpose\n",
    "df['credit_purpose_grouped'] = df['credit_purpose'].replace({\n",
    "    'radio/tv': 'electronics',\n",
    "    'domestic appliance': 'electronics',\n",
    "    'furniture/equipment': 'household',\n",
    "    'repairs': 'household',\n",
    "    'new car': 'car',\n",
    "    'used car': 'car',\n",
    "    'education': 'education',\n",
    "    'retraining': 'education',\n",
    "    'business': 'business',\n",
    "    'other': 'other'\n",
    "})\n",
    "\n",
    "\n",
    "# Regroupement pour Credit history\n",
    "df['credit_history_grouped'] = df['credit_history'].replace({\n",
    "    'no credits/all paid': 'good',\n",
    "    'all paid': 'good',\n",
    "    'existing paid': 'average',\n",
    "    'delayed previously': 'poor',\n",
    "    'critical/other existing credit': 'critical'\n",
    "})\n",
    "\n",
    "# Regroupement pour Status\n",
    "df['status_grouped'] = df['status'].replace({\n",
    "    'single': 'single',\n",
    "    'div/dep/mar': 'not_single',\n",
    "    'mar/wid': 'not_single',\n",
    "    'div/sep': 'not_single'\n",
    "})\n",
    "\n",
    "# Regroupement pour Saving_Status\n",
    "df['saving_status_grouped'] = df['saving_status'].replace({\n",
    "    'no savings': 'low',\n",
    "    'less than 100': 'low',\n",
    "    '100-500': 'medium',\n",
    "    '500-1000': 'high',\n",
    "    'more than 1000': 'high'\n",
    "})\n",
    "\n",
    "\n",
    "# Suppression des anciennes colonnes après regroupement\n",
    "df = df.drop(columns= ['credit_purpose', 'credit_history', 'status', 'saving_status'])\n",
    "\n",
    "# Vérification rapide\n",
    "print(\"Nouvelles colonnes ajoutées :\", ['credit_purpose_grouped','credit_history_grouped', 'status_grouped', 'saving_status_grouped'])\n"
   ]
  },
  {
   "cell_type": "code",
   "execution_count": 11,
   "metadata": {},
   "outputs": [
    {
     "data": {
      "text/plain": [
       "Index(['credit_amount', 'account_status', 'credit_purpose_grouped',\n",
       "       'credit_history_grouped', 'status_grouped', 'saving_status_grouped'],\n",
       "      dtype='object')"
      ]
     },
     "execution_count": 11,
     "metadata": {},
     "output_type": "execute_result"
    }
   ],
   "source": [
    "df.columns"
   ]
  },
  {
   "cell_type": "code",
   "execution_count": 12,
   "metadata": {},
   "outputs": [
    {
     "data": {
      "text/html": [
       "<div>\n",
       "<style scoped>\n",
       "    .dataframe tbody tr th:only-of-type {\n",
       "        vertical-align: middle;\n",
       "    }\n",
       "\n",
       "    .dataframe tbody tr th {\n",
       "        vertical-align: top;\n",
       "    }\n",
       "\n",
       "    .dataframe thead th {\n",
       "        text-align: right;\n",
       "    }\n",
       "</style>\n",
       "<table border=\"1\" class=\"dataframe\">\n",
       "  <thead>\n",
       "    <tr style=\"text-align: right;\">\n",
       "      <th></th>\n",
       "      <th>credit_amount</th>\n",
       "      <th>account_status</th>\n",
       "      <th>credit_purpose_grouped</th>\n",
       "      <th>credit_history_grouped</th>\n",
       "      <th>status_grouped</th>\n",
       "      <th>saving_status_grouped</th>\n",
       "    </tr>\n",
       "  </thead>\n",
       "  <tbody>\n",
       "    <tr>\n",
       "      <th>0</th>\n",
       "      <td>1169</td>\n",
       "      <td>good</td>\n",
       "      <td>electronics</td>\n",
       "      <td>critical</td>\n",
       "      <td>single</td>\n",
       "      <td>low</td>\n",
       "    </tr>\n",
       "    <tr>\n",
       "      <th>1</th>\n",
       "      <td>5951</td>\n",
       "      <td>bad</td>\n",
       "      <td>electronics</td>\n",
       "      <td>average</td>\n",
       "      <td>not_single</td>\n",
       "      <td>low</td>\n",
       "    </tr>\n",
       "    <tr>\n",
       "      <th>2</th>\n",
       "      <td>2096</td>\n",
       "      <td>good</td>\n",
       "      <td>education</td>\n",
       "      <td>critical</td>\n",
       "      <td>single</td>\n",
       "      <td>low</td>\n",
       "    </tr>\n",
       "    <tr>\n",
       "      <th>3</th>\n",
       "      <td>7882</td>\n",
       "      <td>good</td>\n",
       "      <td>household</td>\n",
       "      <td>average</td>\n",
       "      <td>single</td>\n",
       "      <td>low</td>\n",
       "    </tr>\n",
       "    <tr>\n",
       "      <th>4</th>\n",
       "      <td>4870</td>\n",
       "      <td>bad</td>\n",
       "      <td>car</td>\n",
       "      <td>poor</td>\n",
       "      <td>single</td>\n",
       "      <td>low</td>\n",
       "    </tr>\n",
       "    <tr>\n",
       "      <th>...</th>\n",
       "      <td>...</td>\n",
       "      <td>...</td>\n",
       "      <td>...</td>\n",
       "      <td>...</td>\n",
       "      <td>...</td>\n",
       "      <td>...</td>\n",
       "    </tr>\n",
       "    <tr>\n",
       "      <th>995</th>\n",
       "      <td>1736</td>\n",
       "      <td>good</td>\n",
       "      <td>household</td>\n",
       "      <td>average</td>\n",
       "      <td>not_single</td>\n",
       "      <td>low</td>\n",
       "    </tr>\n",
       "    <tr>\n",
       "      <th>996</th>\n",
       "      <td>3857</td>\n",
       "      <td>good</td>\n",
       "      <td>car</td>\n",
       "      <td>average</td>\n",
       "      <td>not_single</td>\n",
       "      <td>low</td>\n",
       "    </tr>\n",
       "    <tr>\n",
       "      <th>997</th>\n",
       "      <td>804</td>\n",
       "      <td>good</td>\n",
       "      <td>electronics</td>\n",
       "      <td>average</td>\n",
       "      <td>single</td>\n",
       "      <td>low</td>\n",
       "    </tr>\n",
       "    <tr>\n",
       "      <th>998</th>\n",
       "      <td>1845</td>\n",
       "      <td>bad</td>\n",
       "      <td>electronics</td>\n",
       "      <td>average</td>\n",
       "      <td>single</td>\n",
       "      <td>low</td>\n",
       "    </tr>\n",
       "    <tr>\n",
       "      <th>999</th>\n",
       "      <td>4576</td>\n",
       "      <td>good</td>\n",
       "      <td>car</td>\n",
       "      <td>critical</td>\n",
       "      <td>single</td>\n",
       "      <td>medium</td>\n",
       "    </tr>\n",
       "  </tbody>\n",
       "</table>\n",
       "<p>1000 rows × 6 columns</p>\n",
       "</div>"
      ],
      "text/plain": [
       "     credit_amount account_status credit_purpose_grouped  \\\n",
       "0             1169           good            electronics   \n",
       "1             5951            bad            electronics   \n",
       "2             2096           good              education   \n",
       "3             7882           good              household   \n",
       "4             4870            bad                    car   \n",
       "..             ...            ...                    ...   \n",
       "995           1736           good              household   \n",
       "996           3857           good                    car   \n",
       "997            804           good            electronics   \n",
       "998           1845            bad            electronics   \n",
       "999           4576           good                    car   \n",
       "\n",
       "    credit_history_grouped status_grouped saving_status_grouped  \n",
       "0                 critical         single                   low  \n",
       "1                  average     not_single                   low  \n",
       "2                 critical         single                   low  \n",
       "3                  average         single                   low  \n",
       "4                     poor         single                   low  \n",
       "..                     ...            ...                   ...  \n",
       "995                average     not_single                   low  \n",
       "996                average     not_single                   low  \n",
       "997                average         single                   low  \n",
       "998                average         single                   low  \n",
       "999               critical         single                medium  \n",
       "\n",
       "[1000 rows x 6 columns]"
      ]
     },
     "execution_count": 12,
     "metadata": {},
     "output_type": "execute_result"
    }
   ],
   "source": [
    "df"
   ]
  },
  {
   "cell_type": "code",
   "execution_count": 13,
   "metadata": {},
   "outputs": [],
   "source": [
    "df = df.rename(columns= {\n",
    "    'credit_purpose_grouped' : 'credit_purpose',\n",
    "    'credit_history_grouped' : 'credit_history',\n",
    "    'status_grouped': 'status',\n",
    "    'saving_status_grouped' : 'saving_status'\n",
    "    \n",
    "})"
   ]
  },
  {
   "cell_type": "code",
   "execution_count": 14,
   "metadata": {},
   "outputs": [
    {
     "data": {
      "text/plain": [
       "Index(['credit_amount', 'account_status', 'credit_purpose', 'credit_history',\n",
       "       'status', 'saving_status'],\n",
       "      dtype='object')"
      ]
     },
     "execution_count": 14,
     "metadata": {},
     "output_type": "execute_result"
    }
   ],
   "source": [
    "df.columns"
   ]
  },
  {
   "cell_type": "code",
   "execution_count": 19,
   "metadata": {},
   "outputs": [],
   "source": [
    "#df.to_csv('df_api.csv', index=False)"
   ]
  },
  {
   "cell_type": "markdown",
   "metadata": {},
   "source": [
    "### Modélisation "
   ]
  },
  {
   "cell_type": "code",
   "execution_count": 40,
   "metadata": {},
   "outputs": [
    {
     "data": {
      "text/html": [
       "<div>\n",
       "<style scoped>\n",
       "    .dataframe tbody tr th:only-of-type {\n",
       "        vertical-align: middle;\n",
       "    }\n",
       "\n",
       "    .dataframe tbody tr th {\n",
       "        vertical-align: top;\n",
       "    }\n",
       "\n",
       "    .dataframe thead th {\n",
       "        text-align: right;\n",
       "    }\n",
       "</style>\n",
       "<table border=\"1\" class=\"dataframe\">\n",
       "  <thead>\n",
       "    <tr style=\"text-align: right;\">\n",
       "      <th></th>\n",
       "      <th>credit_amount</th>\n",
       "      <th>account_status</th>\n",
       "      <th>credit_purpose</th>\n",
       "      <th>credit_history</th>\n",
       "      <th>status</th>\n",
       "      <th>saving_status</th>\n",
       "    </tr>\n",
       "  </thead>\n",
       "  <tbody>\n",
       "    <tr>\n",
       "      <th>0</th>\n",
       "      <td>1169</td>\n",
       "      <td>good</td>\n",
       "      <td>electronics</td>\n",
       "      <td>critical</td>\n",
       "      <td>single</td>\n",
       "      <td>low</td>\n",
       "    </tr>\n",
       "    <tr>\n",
       "      <th>1</th>\n",
       "      <td>5951</td>\n",
       "      <td>bad</td>\n",
       "      <td>electronics</td>\n",
       "      <td>average</td>\n",
       "      <td>not_single</td>\n",
       "      <td>low</td>\n",
       "    </tr>\n",
       "    <tr>\n",
       "      <th>2</th>\n",
       "      <td>2096</td>\n",
       "      <td>good</td>\n",
       "      <td>education</td>\n",
       "      <td>critical</td>\n",
       "      <td>single</td>\n",
       "      <td>low</td>\n",
       "    </tr>\n",
       "    <tr>\n",
       "      <th>3</th>\n",
       "      <td>7882</td>\n",
       "      <td>good</td>\n",
       "      <td>household</td>\n",
       "      <td>average</td>\n",
       "      <td>single</td>\n",
       "      <td>low</td>\n",
       "    </tr>\n",
       "    <tr>\n",
       "      <th>4</th>\n",
       "      <td>4870</td>\n",
       "      <td>bad</td>\n",
       "      <td>car</td>\n",
       "      <td>poor</td>\n",
       "      <td>single</td>\n",
       "      <td>low</td>\n",
       "    </tr>\n",
       "  </tbody>\n",
       "</table>\n",
       "</div>"
      ],
      "text/plain": [
       "   credit_amount account_status credit_purpose credit_history      status  \\\n",
       "0           1169           good    electronics       critical      single   \n",
       "1           5951            bad    electronics        average  not_single   \n",
       "2           2096           good      education       critical      single   \n",
       "3           7882           good      household        average      single   \n",
       "4           4870            bad            car           poor      single   \n",
       "\n",
       "  saving_status  \n",
       "0           low  \n",
       "1           low  \n",
       "2           low  \n",
       "3           low  \n",
       "4           low  "
      ]
     },
     "execution_count": 40,
     "metadata": {},
     "output_type": "execute_result"
    }
   ],
   "source": [
    "df_prep = df.copy()\n",
    "df_prep.head(5)"
   ]
  },
  {
   "cell_type": "code",
   "execution_count": 42,
   "metadata": {},
   "outputs": [
    {
     "name": "stdout",
     "output_type": "stream",
     "text": [
      "<class 'pandas.core.frame.DataFrame'>\n",
      "RangeIndex: 1000 entries, 0 to 999\n",
      "Data columns (total 6 columns):\n",
      " #   Column          Non-Null Count  Dtype \n",
      "---  ------          --------------  ----- \n",
      " 0   credit_amount   1000 non-null   int64 \n",
      " 1   account_status  1000 non-null   object\n",
      " 2   credit_purpose  1000 non-null   object\n",
      " 3   credit_history  1000 non-null   object\n",
      " 4   status          1000 non-null   object\n",
      " 5   saving_status   1000 non-null   object\n",
      "dtypes: int64(1), object(5)\n",
      "memory usage: 47.0+ KB\n"
     ]
    }
   ],
   "source": [
    "df_prep.info()"
   ]
  },
  {
   "cell_type": "code",
   "execution_count": 43,
   "metadata": {},
   "outputs": [
    {
     "name": "stdout",
     "output_type": "stream",
     "text": [
      "Modalités de account_status :\n",
      "account_status\n",
      "good    700\n",
      "bad     300\n",
      "Name: count, dtype: int64\n",
      "----------------------------------------\n",
      "Modalités de credit_purpose :\n",
      "credit_purpose\n",
      "car            337\n",
      "electronics    292\n",
      "household      203\n",
      "business        97\n",
      "education       59\n",
      "other           12\n",
      "Name: count, dtype: int64\n",
      "----------------------------------------\n",
      "Modalités de credit_history :\n",
      "credit_history\n",
      "average     530\n",
      "critical    293\n",
      "good         89\n",
      "poor         88\n",
      "Name: count, dtype: int64\n",
      "----------------------------------------\n",
      "Modalités de status :\n",
      "status\n",
      "single        548\n",
      "not_single    452\n",
      "Name: count, dtype: int64\n",
      "----------------------------------------\n",
      "Modalités de saving_status :\n",
      "saving_status\n",
      "low       786\n",
      "high      111\n",
      "medium    103\n",
      "Name: count, dtype: int64\n",
      "----------------------------------------\n"
     ]
    }
   ],
   "source": [
    "for col in df_prep.select_dtypes(include=['object', 'category']).columns:\n",
    "    print(f\"Modalités de {col} :\")\n",
    "    print(df_prep[col].value_counts())  # Ajoute normalize=True pour voir les proportions\n",
    "    print(\"-\" * 40)"
   ]
  },
  {
   "cell_type": "code",
   "execution_count": null,
   "metadata": {},
   "outputs": [],
   "source": [
    "#cat =df_prep.select_dtypes(include=['object', 'category']).columns\n",
    "#num= df_prep.select_dtypes(include=['int', 'float']).columns"
   ]
  },
  {
   "cell_type": "code",
   "execution_count": 47,
   "metadata": {},
   "outputs": [],
   "source": [
    "cat_features = ['credit_purpose', 'credit_history', 'status','saving_status']\n",
    "num_features = ['credit_amount']\n",
    "\n",
    "# Normalisation des variables numériques\n",
    "scaler = StandardScaler()\n",
    "df_prep[num_features] = scaler.fit_transform(df_prep[num_features])\n",
    "\n",
    "# Encodage One-Hot des variables catégorielles\n",
    "df_prep = pd.get_dummies(df_prep, columns=cat_features, drop_first=True)"
   ]
  },
  {
   "cell_type": "code",
   "execution_count": 48,
   "metadata": {},
   "outputs": [],
   "source": [
    "# Variable cible\n",
    "y = df_prep['account_status'].apply(lambda x: 1 if x == 'bad' else 0)\n",
    "\n",
    "# Variables explicatives\n",
    "X = df_prep.drop(columns=['account_status'])"
   ]
  },
  {
   "cell_type": "code",
   "execution_count": null,
   "metadata": {},
   "outputs": [
    {
     "data": {
      "text/plain": [
       "account_status\n",
       "0    700\n",
       "1    300\n",
       "Name: count, dtype: int64"
      ]
     },
     "execution_count": 49,
     "metadata": {},
     "output_type": "execute_result"
    }
   ],
   "source": [
    "#y.value_counts()"
   ]
  },
  {
   "cell_type": "code",
   "execution_count": 51,
   "metadata": {},
   "outputs": [
    {
     "data": {
      "text/html": [
       "<div>\n",
       "<style scoped>\n",
       "    .dataframe tbody tr th:only-of-type {\n",
       "        vertical-align: middle;\n",
       "    }\n",
       "\n",
       "    .dataframe tbody tr th {\n",
       "        vertical-align: top;\n",
       "    }\n",
       "\n",
       "    .dataframe thead th {\n",
       "        text-align: right;\n",
       "    }\n",
       "</style>\n",
       "<table border=\"1\" class=\"dataframe\">\n",
       "  <thead>\n",
       "    <tr style=\"text-align: right;\">\n",
       "      <th></th>\n",
       "      <th>credit_amount</th>\n",
       "      <th>account_status</th>\n",
       "      <th>credit_purpose_car</th>\n",
       "      <th>credit_purpose_education</th>\n",
       "      <th>credit_purpose_electronics</th>\n",
       "      <th>credit_purpose_household</th>\n",
       "      <th>credit_purpose_other</th>\n",
       "      <th>credit_history_critical</th>\n",
       "      <th>credit_history_good</th>\n",
       "      <th>credit_history_poor</th>\n",
       "      <th>status_single</th>\n",
       "      <th>saving_status_low</th>\n",
       "      <th>saving_status_medium</th>\n",
       "    </tr>\n",
       "  </thead>\n",
       "  <tbody>\n",
       "    <tr>\n",
       "      <th>0</th>\n",
       "      <td>-0.745131</td>\n",
       "      <td>good</td>\n",
       "      <td>False</td>\n",
       "      <td>False</td>\n",
       "      <td>True</td>\n",
       "      <td>False</td>\n",
       "      <td>False</td>\n",
       "      <td>True</td>\n",
       "      <td>False</td>\n",
       "      <td>False</td>\n",
       "      <td>True</td>\n",
       "      <td>True</td>\n",
       "      <td>False</td>\n",
       "    </tr>\n",
       "    <tr>\n",
       "      <th>1</th>\n",
       "      <td>0.949817</td>\n",
       "      <td>bad</td>\n",
       "      <td>False</td>\n",
       "      <td>False</td>\n",
       "      <td>True</td>\n",
       "      <td>False</td>\n",
       "      <td>False</td>\n",
       "      <td>False</td>\n",
       "      <td>False</td>\n",
       "      <td>False</td>\n",
       "      <td>False</td>\n",
       "      <td>True</td>\n",
       "      <td>False</td>\n",
       "    </tr>\n",
       "  </tbody>\n",
       "</table>\n",
       "</div>"
      ],
      "text/plain": [
       "   credit_amount account_status  credit_purpose_car  credit_purpose_education  \\\n",
       "0      -0.745131           good               False                     False   \n",
       "1       0.949817            bad               False                     False   \n",
       "\n",
       "   credit_purpose_electronics  credit_purpose_household  credit_purpose_other  \\\n",
       "0                        True                     False                 False   \n",
       "1                        True                     False                 False   \n",
       "\n",
       "   credit_history_critical  credit_history_good  credit_history_poor  \\\n",
       "0                     True                False                False   \n",
       "1                    False                False                False   \n",
       "\n",
       "   status_single  saving_status_low  saving_status_medium  \n",
       "0           True               True                 False  \n",
       "1          False               True                 False  "
      ]
     },
     "execution_count": 51,
     "metadata": {},
     "output_type": "execute_result"
    }
   ],
   "source": [
    "df_prep.head(2)"
   ]
  },
  {
   "cell_type": "code",
   "execution_count": 53,
   "metadata": {},
   "outputs": [
    {
     "data": {
      "text/plain": [
       "Index(['credit_amount', 'credit_purpose_car', 'credit_purpose_education',\n",
       "       'credit_purpose_electronics', 'credit_purpose_household',\n",
       "       'credit_purpose_other', 'credit_history_critical',\n",
       "       'credit_history_good', 'credit_history_poor', 'status_single',\n",
       "       'saving_status_low', 'saving_status_medium'],\n",
       "      dtype='object')"
      ]
     },
     "execution_count": 53,
     "metadata": {},
     "output_type": "execute_result"
    }
   ],
   "source": [
    "X.columns"
   ]
  },
  {
   "cell_type": "code",
   "execution_count": 54,
   "metadata": {},
   "outputs": [
    {
     "name": "stdout",
     "output_type": "stream",
     "text": [
      "taille de X : (1000, 12)\n",
      "taille de y : (1000,)\n"
     ]
    }
   ],
   "source": [
    "print('taille de X :',  X.shape)\n",
    "print('taille de y :',  y.shape)"
   ]
  },
  {
   "cell_type": "code",
   "execution_count": null,
   "metadata": {},
   "outputs": [],
   "source": [
    "selected_features = [\n",
    "    'credit_amount',\n",
    "    'credit_purpose_car',\n",
    "    'credit_history_critical',\n",
    "    'status_single',\n",
    "    'saving_status_low',\n",
    "    'credit_purpose_other'\n",
    "]"
   ]
  },
  {
   "cell_type": "code",
   "execution_count": 59,
   "metadata": {},
   "outputs": [
    {
     "data": {
      "text/plain": [
       "account_status\n",
       "0    700\n",
       "1    300\n",
       "Name: count, dtype: int64"
      ]
     },
     "execution_count": 59,
     "metadata": {},
     "output_type": "execute_result"
    }
   ],
   "source": [
    "y.value_counts()"
   ]
  },
  {
   "cell_type": "code",
   "execution_count": 57,
   "metadata": {},
   "outputs": [
    {
     "name": "stdout",
     "output_type": "stream",
     "text": [
      "LogisticRegression acc: 0.715\n",
      "              precision    recall  f1-score   support\n",
      "\n",
      "           0       0.72      0.99      0.83       141\n",
      "           1       0.67      0.07      0.12        59\n",
      "\n",
      "    accuracy                           0.71       200\n",
      "   macro avg       0.69      0.53      0.48       200\n",
      "weighted avg       0.70      0.71      0.62       200\n",
      "\n"
     ]
    }
   ],
   "source": [
    "from sklearn.model_selection import train_test_split\n",
    "from sklearn.linear_model import LogisticRegression\n",
    "from sklearn.metrics import classification_report\n",
    "\n",
    "X_sel = X[selected_features]\n",
    "X_train, X_test, y_train, y_test = train_test_split(X_sel, y, test_size=0.2, random_state=42)\n",
    "\n",
    "model = LogisticRegression()\n",
    "model.fit(X_train, y_train)\n",
    "\n",
    "y_pred = model.predict(X_test)\n",
    "accuracy = accuracy_score(y_test, y_pred)\n",
    "print('LogisticRegression acc:',accuracy )\n",
    "print(classification_report(y_test, y_pred))\n"
   ]
  },
  {
   "cell_type": "code",
   "execution_count": 60,
   "metadata": {},
   "outputs": [
    {
     "data": {
      "text/plain": [
       "['features_columns1.pkl']"
      ]
     },
     "execution_count": 60,
     "metadata": {},
     "output_type": "execute_result"
    }
   ],
   "source": [
    "import joblib\n",
    "\n",
    "joblib.dump(model, \"log_reg.pkl\")\n",
    "joblib.dump(scaler, \"scaler1.pkl\")\n",
    "joblib.dump(X_train.columns.tolist(), \"features_columns1.pkl\")\n"
   ]
  },
  {
   "cell_type": "code",
   "execution_count": 65,
   "metadata": {},
   "outputs": [],
   "source": [
    "b = joblib.load(\"features_columns1.pkl\")\n"
   ]
  },
  {
   "cell_type": "code",
   "execution_count": 66,
   "metadata": {},
   "outputs": [
    {
     "data": {
      "text/plain": [
       "['credit_amount',\n",
       " 'credit_purpose_car',\n",
       " 'credit_history_critical',\n",
       " 'status_single',\n",
       " 'saving_status_low',\n",
       " 'credit_purpose_other']"
      ]
     },
     "execution_count": 66,
     "metadata": {},
     "output_type": "execute_result"
    }
   ],
   "source": [
    "b"
   ]
  }
 ],
 "metadata": {
  "kernelspec": {
   "display_name": "venv",
   "language": "python",
   "name": "python3"
  },
  "language_info": {
   "codemirror_mode": {
    "name": "ipython",
    "version": 3
   },
   "file_extension": ".py",
   "mimetype": "text/x-python",
   "name": "python",
   "nbconvert_exporter": "python",
   "pygments_lexer": "ipython3",
   "version": "3.13.2"
  }
 },
 "nbformat": 4,
 "nbformat_minor": 2
}
