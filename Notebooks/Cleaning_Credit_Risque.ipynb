{
 "cells": [
  {
   "cell_type": "markdown",
   "metadata": {
    "id": "gkJFVHwdx3Ae"
   },
   "source": [
    "Libraries"
   ]
  },
  {
   "cell_type": "code",
   "execution_count": 1,
   "metadata": {
    "id": "DVAuOwLVw5xt"
   },
   "outputs": [],
   "source": [
    "import os\n",
    "import warnings\n",
    "import pandas as pd\n",
    "import matplotlib.pyplot as plt\n",
    "import seaborn as sns\n",
    "import numpy as np\n",
    "warnings.filterwarnings('ignore') "
   ]
  },
  {
   "cell_type": "markdown",
   "metadata": {
    "id": "ffrGNfR7Twr4"
   },
   "source": [
    "Les données"
   ]
  },
  {
   "cell_type": "code",
   "execution_count": 2,
   "metadata": {},
   "outputs": [],
   "source": [
    "path = os.getcwd()\n",
    "chemin_repertoire = os.path.join(path, '../Data')\n",
    "\n",
    "# chemin fichier\n",
    "chemin_data = os.path.join(chemin_repertoire, 'dataset.csv')"
   ]
  },
  {
   "cell_type": "code",
   "execution_count": 3,
   "metadata": {},
   "outputs": [
    {
     "data": {
      "text/html": [
       "<div>\n",
       "<style scoped>\n",
       "    .dataframe tbody tr th:only-of-type {\n",
       "        vertical-align: middle;\n",
       "    }\n",
       "\n",
       "    .dataframe tbody tr th {\n",
       "        vertical-align: top;\n",
       "    }\n",
       "\n",
       "    .dataframe thead th {\n",
       "        text-align: right;\n",
       "    }\n",
       "</style>\n",
       "<table border=\"1\" class=\"dataframe\">\n",
       "  <thead>\n",
       "    <tr style=\"text-align: right;\">\n",
       "      <th></th>\n",
       "      <th>id</th>\n",
       "      <th>Duration in months</th>\n",
       "      <th>Credit history</th>\n",
       "      <th>Purpose of the credit</th>\n",
       "      <th>Credit amount</th>\n",
       "      <th>Status of savings account/bonds</th>\n",
       "      <th>Present employment(years)</th>\n",
       "      <th>Installment rate in percentage of disposable income</th>\n",
       "      <th>personal_status</th>\n",
       "      <th>Other debtors / guarantors</th>\n",
       "      <th>...</th>\n",
       "      <th>Property</th>\n",
       "      <th>Age in years</th>\n",
       "      <th>Other installment plans (banks/stores)</th>\n",
       "      <th>Housing</th>\n",
       "      <th>Number of existing credits at this bank</th>\n",
       "      <th>Job</th>\n",
       "      <th>Number of people being liable to provide maintenance for</th>\n",
       "      <th>Telephone</th>\n",
       "      <th>Foreign worker</th>\n",
       "      <th>Status of existing checking account</th>\n",
       "    </tr>\n",
       "  </thead>\n",
       "  <tbody>\n",
       "    <tr>\n",
       "      <th>0</th>\n",
       "      <td>1</td>\n",
       "      <td>6</td>\n",
       "      <td>critical/other existing credit</td>\n",
       "      <td>radio/tv</td>\n",
       "      <td>1169</td>\n",
       "      <td>no known savings</td>\n",
       "      <td>&gt;=7</td>\n",
       "      <td>4</td>\n",
       "      <td>male single</td>\n",
       "      <td>none</td>\n",
       "      <td>...</td>\n",
       "      <td>real estate</td>\n",
       "      <td>67</td>\n",
       "      <td>none</td>\n",
       "      <td>own</td>\n",
       "      <td>2</td>\n",
       "      <td>skilled</td>\n",
       "      <td>1</td>\n",
       "      <td>yes</td>\n",
       "      <td>yes</td>\n",
       "      <td>good</td>\n",
       "    </tr>\n",
       "    <tr>\n",
       "      <th>1</th>\n",
       "      <td>2</td>\n",
       "      <td>48</td>\n",
       "      <td>existing paid</td>\n",
       "      <td>radio/tv</td>\n",
       "      <td>5951</td>\n",
       "      <td>&lt;100</td>\n",
       "      <td>1&lt;=X&lt;4</td>\n",
       "      <td>2</td>\n",
       "      <td>female div/dep/mar</td>\n",
       "      <td>none</td>\n",
       "      <td>...</td>\n",
       "      <td>real estate</td>\n",
       "      <td>22</td>\n",
       "      <td>none</td>\n",
       "      <td>own</td>\n",
       "      <td>1</td>\n",
       "      <td>skilled</td>\n",
       "      <td>1</td>\n",
       "      <td>none</td>\n",
       "      <td>yes</td>\n",
       "      <td>bad</td>\n",
       "    </tr>\n",
       "    <tr>\n",
       "      <th>2</th>\n",
       "      <td>3</td>\n",
       "      <td>12</td>\n",
       "      <td>critical/other existing credit</td>\n",
       "      <td>education</td>\n",
       "      <td>2096</td>\n",
       "      <td>&lt;100</td>\n",
       "      <td>4&lt;=X&lt;7</td>\n",
       "      <td>2</td>\n",
       "      <td>male single</td>\n",
       "      <td>none</td>\n",
       "      <td>...</td>\n",
       "      <td>real estate</td>\n",
       "      <td>49</td>\n",
       "      <td>none</td>\n",
       "      <td>own</td>\n",
       "      <td>1</td>\n",
       "      <td>unskilled resident</td>\n",
       "      <td>2</td>\n",
       "      <td>none</td>\n",
       "      <td>yes</td>\n",
       "      <td>good</td>\n",
       "    </tr>\n",
       "    <tr>\n",
       "      <th>3</th>\n",
       "      <td>4</td>\n",
       "      <td>42</td>\n",
       "      <td>existing paid</td>\n",
       "      <td>furniture/equipment</td>\n",
       "      <td>7882</td>\n",
       "      <td>&lt;100</td>\n",
       "      <td>4&lt;=X&lt;7</td>\n",
       "      <td>2</td>\n",
       "      <td>male single</td>\n",
       "      <td>guarantor</td>\n",
       "      <td>...</td>\n",
       "      <td>life insurance</td>\n",
       "      <td>45</td>\n",
       "      <td>none</td>\n",
       "      <td>for free</td>\n",
       "      <td>1</td>\n",
       "      <td>skilled</td>\n",
       "      <td>2</td>\n",
       "      <td>none</td>\n",
       "      <td>yes</td>\n",
       "      <td>good</td>\n",
       "    </tr>\n",
       "    <tr>\n",
       "      <th>4</th>\n",
       "      <td>5</td>\n",
       "      <td>24</td>\n",
       "      <td>delayed previously</td>\n",
       "      <td>new car</td>\n",
       "      <td>4870</td>\n",
       "      <td>&lt;100</td>\n",
       "      <td>1&lt;=X&lt;4</td>\n",
       "      <td>3</td>\n",
       "      <td>male single</td>\n",
       "      <td>none</td>\n",
       "      <td>...</td>\n",
       "      <td>no known property</td>\n",
       "      <td>53</td>\n",
       "      <td>none</td>\n",
       "      <td>for free</td>\n",
       "      <td>2</td>\n",
       "      <td>skilled</td>\n",
       "      <td>2</td>\n",
       "      <td>none</td>\n",
       "      <td>yes</td>\n",
       "      <td>bad</td>\n",
       "    </tr>\n",
       "  </tbody>\n",
       "</table>\n",
       "<p>5 rows × 21 columns</p>\n",
       "</div>"
      ],
      "text/plain": [
       "   id  Duration in months                  Credit history  \\\n",
       "0   1                   6  critical/other existing credit   \n",
       "1   2                  48                   existing paid   \n",
       "2   3                  12  critical/other existing credit   \n",
       "3   4                  42                   existing paid   \n",
       "4   5                  24              delayed previously   \n",
       "\n",
       "  Purpose of the credit  Credit amount Status of savings account/bonds  \\\n",
       "0              radio/tv           1169                no known savings   \n",
       "1              radio/tv           5951                            <100   \n",
       "2             education           2096                            <100   \n",
       "3   furniture/equipment           7882                            <100   \n",
       "4               new car           4870                            <100   \n",
       "\n",
       "  Present employment(years)  \\\n",
       "0                       >=7   \n",
       "1                    1<=X<4   \n",
       "2                    4<=X<7   \n",
       "3                    4<=X<7   \n",
       "4                    1<=X<4   \n",
       "\n",
       "   Installment rate in percentage of disposable income     personal_status  \\\n",
       "0                                                  4           male single   \n",
       "1                                                  2    female div/dep/mar   \n",
       "2                                                  2           male single   \n",
       "3                                                  2           male single   \n",
       "4                                                  3           male single   \n",
       "\n",
       "  Other debtors / guarantors  ...           Property Age in years  \\\n",
       "0                       none  ...        real estate           67   \n",
       "1                       none  ...        real estate           22   \n",
       "2                       none  ...        real estate           49   \n",
       "3                  guarantor  ...     life insurance           45   \n",
       "4                       none  ...  no known property           53   \n",
       "\n",
       "   Other installment plans (banks/stores)   Housing  \\\n",
       "0                                    none       own   \n",
       "1                                    none       own   \n",
       "2                                    none       own   \n",
       "3                                    none  for free   \n",
       "4                                    none  for free   \n",
       "\n",
       "  Number of existing credits at this bank                 Job  \\\n",
       "0                                       2             skilled   \n",
       "1                                       1             skilled   \n",
       "2                                       1  unskilled resident   \n",
       "3                                       1             skilled   \n",
       "4                                       2             skilled   \n",
       "\n",
       "  Number of people being liable to provide maintenance for  Telephone  \\\n",
       "0                                                  1              yes   \n",
       "1                                                  1             none   \n",
       "2                                                  2             none   \n",
       "3                                                  2             none   \n",
       "4                                                  2             none   \n",
       "\n",
       "  Foreign worker Status of existing checking account  \n",
       "0            yes                                good  \n",
       "1            yes                                 bad  \n",
       "2            yes                                good  \n",
       "3            yes                                good  \n",
       "4            yes                                 bad  \n",
       "\n",
       "[5 rows x 21 columns]"
      ]
     },
     "execution_count": 3,
     "metadata": {},
     "output_type": "execute_result"
    }
   ],
   "source": [
    "data = pd.read_csv(chemin_data)\n",
    "data.head()"
   ]
  },
  {
   "cell_type": "markdown",
   "metadata": {
    "id": "8DakUJBd4JD7"
   },
   "source": [
    "I- NETTOYAGE et TRAITEMENT DES DONNEES"
   ]
  },
  {
   "cell_type": "code",
   "execution_count": 4,
   "metadata": {
    "colab": {
     "base_uri": "https://localhost:8080/"
    },
    "executionInfo": {
     "elapsed": 238,
     "status": "ok",
     "timestamp": 1739463232577,
     "user": {
      "displayName": "Nazifou AFOLABI",
      "userId": "11875506910543098987"
     },
     "user_tz": -60
    },
    "id": "_2LnwmK54RIr",
    "outputId": "cd4b587c-bfaa-4cd4-b968-1d9f41df30ac"
   },
   "outputs": [
    {
     "data": {
      "text/plain": [
       "Index(['id', 'Duration in months', 'Credit history', 'Purpose of the credit',\n",
       "       'Credit amount', 'Status of savings account/bonds',\n",
       "       'Present employment(years)',\n",
       "       'Installment rate in percentage of disposable income',\n",
       "       'personal_status', 'Other debtors / guarantors',\n",
       "       'Present residence since X years', 'Property', 'Age in years',\n",
       "       'Other installment plans (banks/stores)', 'Housing',\n",
       "       'Number of existing credits at this bank', 'Job',\n",
       "       'Number of people being liable to provide maintenance for', 'Telephone',\n",
       "       'Foreign worker', 'Status of existing checking account'],\n",
       "      dtype='object')"
      ]
     },
     "execution_count": 4,
     "metadata": {},
     "output_type": "execute_result"
    }
   ],
   "source": [
    "data.columns"
   ]
  },
  {
   "cell_type": "code",
   "execution_count": 7,
   "metadata": {
    "colab": {
     "base_uri": "https://localhost:8080/",
     "height": 397
    },
    "executionInfo": {
     "elapsed": 222,
     "status": "ok",
     "timestamp": 1739463232578,
     "user": {
      "displayName": "Nazifou AFOLABI",
      "userId": "11875506910543098987"
     },
     "user_tz": -60
    },
    "id": "kzwfEDWrJRhn",
    "outputId": "ea36733d-b036-4b9a-e8e8-a83f1f9b2336"
   },
   "outputs": [
    {
     "name": "stdout",
     "output_type": "stream",
     "text": [
      "<class 'pandas.core.frame.DataFrame'>\n",
      "RangeIndex: 1000 entries, 0 to 999\n",
      "Data columns (total 21 columns):\n",
      " #   Column                                                    Non-Null Count  Dtype \n",
      "---  ------                                                    --------------  ----- \n",
      " 0   id                                                        1000 non-null   int64 \n",
      " 1   Duration in months                                        1000 non-null   int64 \n",
      " 2   Credit history                                            1000 non-null   object\n",
      " 3   Purpose of the credit                                     1000 non-null   object\n",
      " 4   Credit amount                                             1000 non-null   int64 \n",
      " 5   Status of savings account/bonds                           1000 non-null   object\n",
      " 6   Present employment(years)                                 1000 non-null   object\n",
      " 7   Installment rate in percentage of disposable income       1000 non-null   int64 \n",
      " 8   personal_status                                           1000 non-null   object\n",
      " 9   Other debtors / guarantors                                1000 non-null   object\n",
      " 10  Present residence since X years                           1000 non-null   int64 \n",
      " 11  Property                                                  1000 non-null   object\n",
      " 12  Age in years                                              1000 non-null   int64 \n",
      " 13  Other installment plans (banks/stores)                    1000 non-null   object\n",
      " 14  Housing                                                   1000 non-null   object\n",
      " 15  Number of existing credits at this bank                   1000 non-null   int64 \n",
      " 16  Job                                                       1000 non-null   object\n",
      " 17  Number of people being liable to provide maintenance for  1000 non-null   int64 \n",
      " 18  Telephone                                                 1000 non-null   object\n",
      " 19  Foreign worker                                            1000 non-null   object\n",
      " 20  Status of existing checking account                       1000 non-null   object\n",
      "dtypes: int64(8), object(13)\n",
      "memory usage: 164.2+ KB\n"
     ]
    }
   ],
   "source": [
    "data.info()"
   ]
  },
  {
   "cell_type": "code",
   "execution_count": 8,
   "metadata": {
    "colab": {
     "base_uri": "https://localhost:8080/",
     "height": 272
    },
    "executionInfo": {
     "elapsed": 220,
     "status": "ok",
     "timestamp": 1739463232578,
     "user": {
      "displayName": "Nazifou AFOLABI",
      "userId": "11875506910543098987"
     },
     "user_tz": -60
    },
    "id": "XPid49NXKFlx",
    "outputId": "7439b68b-d8bd-40d2-d079-cb05ce848c3c"
   },
   "outputs": [
    {
     "data": {
      "text/plain": [
       "Credit history\n",
       "existing paid                     530\n",
       "critical/other existing credit    293\n",
       "delayed previously                 88\n",
       "all paid                           49\n",
       "no credits/all paid                40\n",
       "Name: count, dtype: int64"
      ]
     },
     "execution_count": 8,
     "metadata": {},
     "output_type": "execute_result"
    }
   ],
   "source": [
    "data['Credit history'].value_counts()"
   ]
  },
  {
   "cell_type": "code",
   "execution_count": 9,
   "metadata": {
    "colab": {
     "base_uri": "https://localhost:8080/",
     "height": 241
    },
    "executionInfo": {
     "elapsed": 218,
     "status": "ok",
     "timestamp": 1739463232579,
     "user": {
      "displayName": "Nazifou AFOLABI",
      "userId": "11875506910543098987"
     },
     "user_tz": -60
    },
    "id": "8Kf24uklKTIZ",
    "outputId": "783c474f-1564-451a-a274-2c249a4bb471"
   },
   "outputs": [
    {
     "data": {
      "text/plain": [
       "personal_status\n",
       "male single           548\n",
       "female div/dep/mar    310\n",
       "male mar/wid           92\n",
       "male div/sep           50\n",
       "Name: count, dtype: int64"
      ]
     },
     "execution_count": 9,
     "metadata": {},
     "output_type": "execute_result"
    }
   ],
   "source": [
    "data['personal_status'].value_counts()"
   ]
  },
  {
   "cell_type": "markdown",
   "metadata": {
    "id": "LutSJEsPPwCE"
   },
   "source": [
    "Decomposition de la colonne 'personal_status' et deux colonnes 'Gender' et 'Status' = situation matrimoniale"
   ]
  },
  {
   "cell_type": "code",
   "execution_count": 10,
   "metadata": {
    "colab": {
     "base_uri": "https://localhost:8080/"
    },
    "executionInfo": {
     "elapsed": 216,
     "status": "ok",
     "timestamp": 1739463232580,
     "user": {
      "displayName": "Nazifou AFOLABI",
      "userId": "11875506910543098987"
     },
     "user_tz": -60
    },
    "id": "SelOwrwEPGJq",
    "outputId": "5a75cd10-4648-4843-c670-3190e94a044a"
   },
   "outputs": [
    {
     "name": "stdout",
     "output_type": "stream",
     "text": [
      "     Gender       Status\n",
      "0      male       single\n",
      "1    female  div/dep/mar\n",
      "2      male       single\n",
      "3      male       single\n",
      "4      male       single\n",
      "..      ...          ...\n",
      "995  female  div/dep/mar\n",
      "996    male      div/sep\n",
      "997    male       single\n",
      "998    male       single\n",
      "999    male       single\n",
      "\n",
      "[1000 rows x 2 columns]\n"
     ]
    }
   ],
   "source": [
    "data[['Gender', 'Status']] = data['personal_status'].str.split(n=1, expand=True)\n",
    "print(data[['Gender', 'Status']])"
   ]
  },
  {
   "cell_type": "code",
   "execution_count": 12,
   "metadata": {
    "colab": {
     "base_uri": "https://localhost:8080/",
     "height": 241
    },
    "executionInfo": {
     "elapsed": 225,
     "status": "ok",
     "timestamp": 1739463232601,
     "user": {
      "displayName": "Nazifou AFOLABI",
      "userId": "11875506910543098987"
     },
     "user_tz": -60
    },
    "id": "Z5GX2bn_QLhf",
    "outputId": "a68cc107-f869-43b0-b66e-6cb49afd9b30"
   },
   "outputs": [
    {
     "data": {
      "text/plain": [
       "Status\n",
       "single         548\n",
       "div/dep/mar    310\n",
       "mar/wid         92\n",
       "div/sep         50\n",
       "Name: count, dtype: int64"
      ]
     },
     "execution_count": 12,
     "metadata": {},
     "output_type": "execute_result"
    }
   ],
   "source": [
    "data['Status'].value_counts()"
   ]
  },
  {
   "cell_type": "code",
   "execution_count": 13,
   "metadata": {
    "colab": {
     "base_uri": "https://localhost:8080/",
     "height": 429
    },
    "executionInfo": {
     "elapsed": 224,
     "status": "ok",
     "timestamp": 1739463232602,
     "user": {
      "displayName": "Nazifou AFOLABI",
      "userId": "11875506910543098987"
     },
     "user_tz": -60
    },
    "id": "CY4i0GIco8cw",
    "outputId": "fb11b181-789e-435e-c3a9-7e03951c73cd"
   },
   "outputs": [
    {
     "data": {
      "text/plain": [
       "Purpose of the credit\n",
       "radio/tv               280\n",
       "new car                234\n",
       "furniture/equipment    181\n",
       "used car               103\n",
       "business                97\n",
       "education               50\n",
       "repairs                 22\n",
       "domestic appliance      12\n",
       "other                   12\n",
       "retraining               9\n",
       "Name: count, dtype: int64"
      ]
     },
     "execution_count": 13,
     "metadata": {},
     "output_type": "execute_result"
    }
   ],
   "source": [
    "data['Purpose of the credit'].value_counts()"
   ]
  },
  {
   "cell_type": "code",
   "execution_count": 14,
   "metadata": {
    "colab": {
     "base_uri": "https://localhost:8080/",
     "height": 272
    },
    "executionInfo": {
     "elapsed": 222,
     "status": "ok",
     "timestamp": 1739463232602,
     "user": {
      "displayName": "Nazifou AFOLABI",
      "userId": "11875506910543098987"
     },
     "user_tz": -60
    },
    "id": "uqR7BZbypLRW",
    "outputId": "6576e01d-6df1-4f0a-dba5-bfeba188aa2d"
   },
   "outputs": [
    {
     "data": {
      "text/plain": [
       "Present employment(years)\n",
       "1<=X<4        339\n",
       ">=7           253\n",
       "4<=X<7        174\n",
       "<1            172\n",
       "unemployed     62\n",
       "Name: count, dtype: int64"
      ]
     },
     "execution_count": 14,
     "metadata": {},
     "output_type": "execute_result"
    }
   ],
   "source": [
    "data['Present employment(years)'].value_counts()"
   ]
  },
  {
   "cell_type": "code",
   "execution_count": 15,
   "metadata": {
    "id": "CZ94G8HdpV2M"
   },
   "outputs": [],
   "source": [
    "employment_mapping = {\n",
    "    '1<=X<4': '1-3 years',\n",
    "    '>=7': '7 or more years',\n",
    "    '4<=X<7': '4-6 years',\n",
    "    '<1': 'less than 1 year',\n",
    "    'unemployed': 'unemployed'\n",
    "}\n",
    "\n",
    "data[\"Years_Employments\"] = data[\"Present employment(years)\"].map(employment_mapping)"
   ]
  },
  {
   "cell_type": "code",
   "execution_count": 17,
   "metadata": {
    "id": "xhPdITB-pz4L"
   },
   "outputs": [],
   "source": [
    "#data['Years_Employments'].value_counts()"
   ]
  },
  {
   "cell_type": "code",
   "execution_count": 22,
   "metadata": {
    "colab": {
     "base_uri": "https://localhost:8080/",
     "height": 272
    },
    "executionInfo": {
     "elapsed": 217,
     "status": "ok",
     "timestamp": 1739463232604,
     "user": {
      "displayName": "Nazifou AFOLABI",
      "userId": "11875506910543098987"
     },
     "user_tz": -60
    },
    "id": "uV8Pm6fdqEG1",
    "outputId": "e81b1255-1fb8-4794-f7f9-249ca917bc25"
   },
   "outputs": [
    {
     "data": {
      "text/plain": [
       "Status of savings account/bonds\n",
       "<100                603\n",
       "no known savings    183\n",
       "100<=X<500          103\n",
       "500<=X<1000          63\n",
       ">=1000               48\n",
       "Name: count, dtype: int64"
      ]
     },
     "execution_count": 22,
     "metadata": {},
     "output_type": "execute_result"
    }
   ],
   "source": [
    "data['Status of savings account/bonds'].value_counts()"
   ]
  },
  {
   "cell_type": "code",
   "execution_count": 23,
   "metadata": {
    "id": "avn-NrzKrE8p"
   },
   "outputs": [],
   "source": [
    "Saving_Status = {\n",
    "    '<100' : 'less than 100',\n",
    "    'no known savings' : 'no savings',\n",
    "    '100<=X<500' : '100-500',\n",
    "    '500<=X<1000' : '500-1000',\n",
    "    '>=1000' : 'more than 1000'\n",
    "}\n",
    "\n",
    "data[\"Saving_Status\"] = data[\"Status of savings account/bonds\"].map(Saving_Status)"
   ]
  },
  {
   "cell_type": "code",
   "execution_count": null,
   "metadata": {
    "colab": {
     "base_uri": "https://localhost:8080/",
     "height": 272
    },
    "executionInfo": {
     "elapsed": 213,
     "status": "ok",
     "timestamp": 1739463232604,
     "user": {
      "displayName": "Nazifou AFOLABI",
      "userId": "11875506910543098987"
     },
     "user_tz": -60
    },
    "id": "fCwxxy-MrNJe",
    "outputId": "e7a87378-8c9c-4ba3-b3a3-7265f556493c"
   },
   "outputs": [
    {
     "data": {
      "text/plain": [
       "Saving_Status\n",
       "less than 100     603\n",
       "no savings        183\n",
       "100-500           103\n",
       "500-1000           63\n",
       "more than 1000     48\n",
       "Name: count, dtype: int64"
      ]
     },
     "execution_count": 24,
     "metadata": {},
     "output_type": "execute_result"
    }
   ],
   "source": [
    "#data['Saving_Status'].value_counts()"
   ]
  },
  {
   "cell_type": "code",
   "execution_count": 25,
   "metadata": {
    "colab": {
     "base_uri": "https://localhost:8080/",
     "height": 209
    },
    "executionInfo": {
     "elapsed": 211,
     "status": "ok",
     "timestamp": 1739463232605,
     "user": {
      "displayName": "Nazifou AFOLABI",
      "userId": "11875506910543098987"
     },
     "user_tz": -60
    },
    "id": "rdaRDB_drfy6",
    "outputId": "046c6921-f457-4fca-8f15-453653889163"
   },
   "outputs": [
    {
     "data": {
      "text/plain": [
       "Other debtors / guarantors\n",
       "none            907\n",
       "guarantor        52\n",
       "co applicant     41\n",
       "Name: count, dtype: int64"
      ]
     },
     "execution_count": 25,
     "metadata": {},
     "output_type": "execute_result"
    }
   ],
   "source": [
    "data['Other debtors / guarantors'].value_counts()"
   ]
  },
  {
   "cell_type": "code",
   "execution_count": 26,
   "metadata": {
    "colab": {
     "base_uri": "https://localhost:8080/",
     "height": 484
    },
    "executionInfo": {
     "elapsed": 208,
     "status": "ok",
     "timestamp": 1739463232605,
     "user": {
      "displayName": "Nazifou AFOLABI",
      "userId": "11875506910543098987"
     },
     "user_tz": -60
    },
    "id": "ICL6QoVxrxn6",
    "outputId": "42dc4f98-bcf4-40ef-96be-40042ad681a3"
   },
   "outputs": [
    {
     "data": {
      "text/html": [
       "<div>\n",
       "<style scoped>\n",
       "    .dataframe tbody tr th:only-of-type {\n",
       "        vertical-align: middle;\n",
       "    }\n",
       "\n",
       "    .dataframe tbody tr th {\n",
       "        vertical-align: top;\n",
       "    }\n",
       "\n",
       "    .dataframe thead th {\n",
       "        text-align: right;\n",
       "    }\n",
       "</style>\n",
       "<table border=\"1\" class=\"dataframe\">\n",
       "  <thead>\n",
       "    <tr style=\"text-align: right;\">\n",
       "      <th></th>\n",
       "      <th>Present residence since X years</th>\n",
       "      <th>Property</th>\n",
       "      <th>Age in years</th>\n",
       "      <th>Other installment plans (banks/stores)</th>\n",
       "      <th>Housing</th>\n",
       "      <th>Number of existing credits at this bank</th>\n",
       "      <th>Job</th>\n",
       "      <th>Number of people being liable to provide maintenance for</th>\n",
       "      <th>Telephone</th>\n",
       "      <th>Foreign worker</th>\n",
       "      <th>Status of existing checking account</th>\n",
       "    </tr>\n",
       "  </thead>\n",
       "  <tbody>\n",
       "    <tr>\n",
       "      <th>601</th>\n",
       "      <td>1</td>\n",
       "      <td>life insurance</td>\n",
       "      <td>30</td>\n",
       "      <td>none</td>\n",
       "      <td>own</td>\n",
       "      <td>1</td>\n",
       "      <td>skilled</td>\n",
       "      <td>1</td>\n",
       "      <td>none</td>\n",
       "      <td>yes</td>\n",
       "      <td>bad</td>\n",
       "    </tr>\n",
       "    <tr>\n",
       "      <th>573</th>\n",
       "      <td>4</td>\n",
       "      <td>life insurance</td>\n",
       "      <td>22</td>\n",
       "      <td>none</td>\n",
       "      <td>own</td>\n",
       "      <td>1</td>\n",
       "      <td>unskilled resident</td>\n",
       "      <td>1</td>\n",
       "      <td>none</td>\n",
       "      <td>yes</td>\n",
       "      <td>good</td>\n",
       "    </tr>\n",
       "    <tr>\n",
       "      <th>849</th>\n",
       "      <td>4</td>\n",
       "      <td>real estate</td>\n",
       "      <td>57</td>\n",
       "      <td>stores</td>\n",
       "      <td>own</td>\n",
       "      <td>1</td>\n",
       "      <td>unskilled resident</td>\n",
       "      <td>1</td>\n",
       "      <td>none</td>\n",
       "      <td>yes</td>\n",
       "      <td>bad</td>\n",
       "    </tr>\n",
       "    <tr>\n",
       "      <th>188</th>\n",
       "      <td>1</td>\n",
       "      <td>life insurance</td>\n",
       "      <td>20</td>\n",
       "      <td>none</td>\n",
       "      <td>own</td>\n",
       "      <td>1</td>\n",
       "      <td>skilled</td>\n",
       "      <td>1</td>\n",
       "      <td>none</td>\n",
       "      <td>yes</td>\n",
       "      <td>bad</td>\n",
       "    </tr>\n",
       "    <tr>\n",
       "      <th>820</th>\n",
       "      <td>2</td>\n",
       "      <td>real estate</td>\n",
       "      <td>27</td>\n",
       "      <td>none</td>\n",
       "      <td>own</td>\n",
       "      <td>2</td>\n",
       "      <td>skilled</td>\n",
       "      <td>1</td>\n",
       "      <td>yes</td>\n",
       "      <td>yes</td>\n",
       "      <td>good</td>\n",
       "    </tr>\n",
       "    <tr>\n",
       "      <th>483</th>\n",
       "      <td>2</td>\n",
       "      <td>life insurance</td>\n",
       "      <td>30</td>\n",
       "      <td>none</td>\n",
       "      <td>own</td>\n",
       "      <td>2</td>\n",
       "      <td>skilled</td>\n",
       "      <td>1</td>\n",
       "      <td>none</td>\n",
       "      <td>yes</td>\n",
       "      <td>good</td>\n",
       "    </tr>\n",
       "    <tr>\n",
       "      <th>619</th>\n",
       "      <td>2</td>\n",
       "      <td>real estate</td>\n",
       "      <td>49</td>\n",
       "      <td>none</td>\n",
       "      <td>own</td>\n",
       "      <td>1</td>\n",
       "      <td>unskilled resident</td>\n",
       "      <td>1</td>\n",
       "      <td>none</td>\n",
       "      <td>yes</td>\n",
       "      <td>good</td>\n",
       "    </tr>\n",
       "    <tr>\n",
       "      <th>869</th>\n",
       "      <td>4</td>\n",
       "      <td>life insurance</td>\n",
       "      <td>24</td>\n",
       "      <td>none</td>\n",
       "      <td>rent</td>\n",
       "      <td>1</td>\n",
       "      <td>skilled</td>\n",
       "      <td>1</td>\n",
       "      <td>none</td>\n",
       "      <td>yes</td>\n",
       "      <td>good</td>\n",
       "    </tr>\n",
       "    <tr>\n",
       "      <th>800</th>\n",
       "      <td>4</td>\n",
       "      <td>no known property</td>\n",
       "      <td>54</td>\n",
       "      <td>none</td>\n",
       "      <td>for free</td>\n",
       "      <td>2</td>\n",
       "      <td>skilled</td>\n",
       "      <td>2</td>\n",
       "      <td>none</td>\n",
       "      <td>yes</td>\n",
       "      <td>good</td>\n",
       "    </tr>\n",
       "    <tr>\n",
       "      <th>802</th>\n",
       "      <td>4</td>\n",
       "      <td>life insurance</td>\n",
       "      <td>24</td>\n",
       "      <td>none</td>\n",
       "      <td>own</td>\n",
       "      <td>2</td>\n",
       "      <td>skilled</td>\n",
       "      <td>1</td>\n",
       "      <td>none</td>\n",
       "      <td>yes</td>\n",
       "      <td>good</td>\n",
       "    </tr>\n",
       "  </tbody>\n",
       "</table>\n",
       "</div>"
      ],
      "text/plain": [
       "     Present residence since X years           Property  Age in years  \\\n",
       "601                                1     life insurance            30   \n",
       "573                                4     life insurance            22   \n",
       "849                                4        real estate            57   \n",
       "188                                1     life insurance            20   \n",
       "820                                2        real estate            27   \n",
       "483                                2     life insurance            30   \n",
       "619                                2        real estate            49   \n",
       "869                                4     life insurance            24   \n",
       "800                                4  no known property            54   \n",
       "802                                4     life insurance            24   \n",
       "\n",
       "    Other installment plans (banks/stores)   Housing  \\\n",
       "601                                   none       own   \n",
       "573                                   none       own   \n",
       "849                                 stores       own   \n",
       "188                                   none       own   \n",
       "820                                   none       own   \n",
       "483                                   none       own   \n",
       "619                                   none       own   \n",
       "869                                   none      rent   \n",
       "800                                   none  for free   \n",
       "802                                   none       own   \n",
       "\n",
       "     Number of existing credits at this bank                 Job  \\\n",
       "601                                        1             skilled   \n",
       "573                                        1  unskilled resident   \n",
       "849                                        1  unskilled resident   \n",
       "188                                        1             skilled   \n",
       "820                                        2             skilled   \n",
       "483                                        2             skilled   \n",
       "619                                        1  unskilled resident   \n",
       "869                                        1             skilled   \n",
       "800                                        2             skilled   \n",
       "802                                        2             skilled   \n",
       "\n",
       "     Number of people being liable to provide maintenance for Telephone  \\\n",
       "601                                                  1             none   \n",
       "573                                                  1             none   \n",
       "849                                                  1             none   \n",
       "188                                                  1             none   \n",
       "820                                                  1              yes   \n",
       "483                                                  1             none   \n",
       "619                                                  1             none   \n",
       "869                                                  1             none   \n",
       "800                                                  2             none   \n",
       "802                                                  1             none   \n",
       "\n",
       "    Foreign worker Status of existing checking account  \n",
       "601            yes                                 bad  \n",
       "573            yes                                good  \n",
       "849            yes                                 bad  \n",
       "188            yes                                 bad  \n",
       "820            yes                                good  \n",
       "483            yes                                good  \n",
       "619            yes                                good  \n",
       "869            yes                                good  \n",
       "800            yes                                good  \n",
       "802            yes                                good  "
      ]
     },
     "execution_count": 26,
     "metadata": {},
     "output_type": "execute_result"
    }
   ],
   "source": [
    "data[['Present residence since X years', 'Property', 'Age in years',\n",
    "       'Other installment plans (banks/stores)', 'Housing',\n",
    "       'Number of existing credits at this bank', 'Job',\n",
    "       'Number of people being liable to provide maintenance for', 'Telephone',\n",
    "       'Foreign worker', 'Status of existing checking account']].sample(10)"
   ]
  },
  {
   "cell_type": "code",
   "execution_count": 27,
   "metadata": {
    "colab": {
     "base_uri": "https://localhost:8080/",
     "height": 209
    },
    "executionInfo": {
     "elapsed": 206,
     "status": "ok",
     "timestamp": 1739463232606,
     "user": {
      "displayName": "Nazifou AFOLABI",
      "userId": "11875506910543098987"
     },
     "user_tz": -60
    },
    "id": "kmyZI2akr7aj",
    "outputId": "0d23a2cd-1f09-4953-a6a5-56495fc60de5"
   },
   "outputs": [
    {
     "data": {
      "text/plain": [
       "Housing\n",
       "own         713\n",
       "rent        179\n",
       "for free    108\n",
       "Name: count, dtype: int64"
      ]
     },
     "execution_count": 27,
     "metadata": {},
     "output_type": "execute_result"
    }
   ],
   "source": [
    "data['Housing'].value_counts()"
   ]
  },
  {
   "cell_type": "code",
   "execution_count": 28,
   "metadata": {
    "colab": {
     "base_uri": "https://localhost:8080/",
     "height": 241
    },
    "executionInfo": {
     "elapsed": 199,
     "status": "ok",
     "timestamp": 1739463232606,
     "user": {
      "displayName": "Nazifou AFOLABI",
      "userId": "11875506910543098987"
     },
     "user_tz": -60
    },
    "id": "KRDho7BJyIpV",
    "outputId": "4b4926ca-6b63-49c0-9a99-44bc52aaf2e1"
   },
   "outputs": [
    {
     "data": {
      "text/plain": [
       "Job\n",
       "skilled                      630\n",
       "unskilled resident           200\n",
       "high qualif/self emp/mgmt    148\n",
       "unemp/unskilled non res       22\n",
       "Name: count, dtype: int64"
      ]
     },
     "execution_count": 28,
     "metadata": {},
     "output_type": "execute_result"
    }
   ],
   "source": [
    "data['Job'].value_counts()"
   ]
  },
  {
   "cell_type": "code",
   "execution_count": 29,
   "metadata": {
    "id": "xkQHSWYmv_HG"
   },
   "outputs": [],
   "source": [
    "data['Job'] = data['Job'].str.lower()\n",
    "data['Job'] = data['Job'].str.replace(' ', '_').str.replace('/', '_')\n",
    "data['Job'] = data['Job'].str.replace('[^a-z0-9_]', '', regex=True)"
   ]
  },
  {
   "cell_type": "code",
   "execution_count": 30,
   "metadata": {
    "colab": {
     "base_uri": "https://localhost:8080/",
     "height": 241
    },
    "executionInfo": {
     "elapsed": 196,
     "status": "ok",
     "timestamp": 1739463232608,
     "user": {
      "displayName": "Nazifou AFOLABI",
      "userId": "11875506910543098987"
     },
     "user_tz": -60
    },
    "id": "_ywRIugLypvf",
    "outputId": "4d426a5f-6d3c-4e87-dc5d-764dc0c7c85d"
   },
   "outputs": [
    {
     "data": {
      "text/plain": [
       "Job\n",
       "skilled                      630\n",
       "unskilled_resident           200\n",
       "high_qualif_self_emp_mgmt    148\n",
       "unemp_unskilled_non_res       22\n",
       "Name: count, dtype: int64"
      ]
     },
     "execution_count": 30,
     "metadata": {},
     "output_type": "execute_result"
    }
   ],
   "source": [
    "data['Job'].value_counts()"
   ]
  },
  {
   "cell_type": "code",
   "execution_count": null,
   "metadata": {
    "id": "IHU83kh8zUVY"
   },
   "outputs": [],
   "source": [
    "#data.head(5)"
   ]
  },
  {
   "cell_type": "code",
   "execution_count": 31,
   "metadata": {
    "id": "DmFzB2HfzPC0"
   },
   "outputs": [],
   "source": [
    "data.drop(columns=['id','Status of savings account/bonds','Present employment(years)','personal_status'],inplace = True)"
   ]
  },
  {
   "cell_type": "code",
   "execution_count": 32,
   "metadata": {
    "colab": {
     "base_uri": "https://localhost:8080/",
     "height": 481
    },
    "executionInfo": {
     "elapsed": 1946,
     "status": "ok",
     "timestamp": 1739463240368,
     "user": {
      "displayName": "Nazifou AFOLABI",
      "userId": "11875506910543098987"
     },
     "user_tz": -60
    },
    "id": "Eg-TU127zmyN",
    "outputId": "4fd1b515-9e18-4828-98ff-949e07acfefc"
   },
   "outputs": [
    {
     "data": {
      "text/html": [
       "<div>\n",
       "<style scoped>\n",
       "    .dataframe tbody tr th:only-of-type {\n",
       "        vertical-align: middle;\n",
       "    }\n",
       "\n",
       "    .dataframe tbody tr th {\n",
       "        vertical-align: top;\n",
       "    }\n",
       "\n",
       "    .dataframe thead th {\n",
       "        text-align: right;\n",
       "    }\n",
       "</style>\n",
       "<table border=\"1\" class=\"dataframe\">\n",
       "  <thead>\n",
       "    <tr style=\"text-align: right;\">\n",
       "      <th></th>\n",
       "      <th>Duration in months</th>\n",
       "      <th>Credit history</th>\n",
       "      <th>Purpose of the credit</th>\n",
       "      <th>Credit amount</th>\n",
       "      <th>Installment rate in percentage of disposable income</th>\n",
       "      <th>Other debtors / guarantors</th>\n",
       "      <th>Present residence since X years</th>\n",
       "      <th>Property</th>\n",
       "      <th>Age in years</th>\n",
       "      <th>Other installment plans (banks/stores)</th>\n",
       "      <th>...</th>\n",
       "      <th>Number of existing credits at this bank</th>\n",
       "      <th>Job</th>\n",
       "      <th>Number of people being liable to provide maintenance for</th>\n",
       "      <th>Telephone</th>\n",
       "      <th>Foreign worker</th>\n",
       "      <th>Status of existing checking account</th>\n",
       "      <th>Gender</th>\n",
       "      <th>Status</th>\n",
       "      <th>Years_Employments</th>\n",
       "      <th>Saving_Status</th>\n",
       "    </tr>\n",
       "  </thead>\n",
       "  <tbody>\n",
       "    <tr>\n",
       "      <th>0</th>\n",
       "      <td>6</td>\n",
       "      <td>critical/other existing credit</td>\n",
       "      <td>radio/tv</td>\n",
       "      <td>1169</td>\n",
       "      <td>4</td>\n",
       "      <td>none</td>\n",
       "      <td>4</td>\n",
       "      <td>real estate</td>\n",
       "      <td>67</td>\n",
       "      <td>none</td>\n",
       "      <td>...</td>\n",
       "      <td>2</td>\n",
       "      <td>skilled</td>\n",
       "      <td>1</td>\n",
       "      <td>yes</td>\n",
       "      <td>yes</td>\n",
       "      <td>good</td>\n",
       "      <td>male</td>\n",
       "      <td>single</td>\n",
       "      <td>7 or more years</td>\n",
       "      <td>no savings</td>\n",
       "    </tr>\n",
       "    <tr>\n",
       "      <th>1</th>\n",
       "      <td>48</td>\n",
       "      <td>existing paid</td>\n",
       "      <td>radio/tv</td>\n",
       "      <td>5951</td>\n",
       "      <td>2</td>\n",
       "      <td>none</td>\n",
       "      <td>2</td>\n",
       "      <td>real estate</td>\n",
       "      <td>22</td>\n",
       "      <td>none</td>\n",
       "      <td>...</td>\n",
       "      <td>1</td>\n",
       "      <td>skilled</td>\n",
       "      <td>1</td>\n",
       "      <td>none</td>\n",
       "      <td>yes</td>\n",
       "      <td>bad</td>\n",
       "      <td>female</td>\n",
       "      <td>div/dep/mar</td>\n",
       "      <td>1-3 years</td>\n",
       "      <td>less than 100</td>\n",
       "    </tr>\n",
       "    <tr>\n",
       "      <th>2</th>\n",
       "      <td>12</td>\n",
       "      <td>critical/other existing credit</td>\n",
       "      <td>education</td>\n",
       "      <td>2096</td>\n",
       "      <td>2</td>\n",
       "      <td>none</td>\n",
       "      <td>3</td>\n",
       "      <td>real estate</td>\n",
       "      <td>49</td>\n",
       "      <td>none</td>\n",
       "      <td>...</td>\n",
       "      <td>1</td>\n",
       "      <td>unskilled_resident</td>\n",
       "      <td>2</td>\n",
       "      <td>none</td>\n",
       "      <td>yes</td>\n",
       "      <td>good</td>\n",
       "      <td>male</td>\n",
       "      <td>single</td>\n",
       "      <td>4-6 years</td>\n",
       "      <td>less than 100</td>\n",
       "    </tr>\n",
       "    <tr>\n",
       "      <th>3</th>\n",
       "      <td>42</td>\n",
       "      <td>existing paid</td>\n",
       "      <td>furniture/equipment</td>\n",
       "      <td>7882</td>\n",
       "      <td>2</td>\n",
       "      <td>guarantor</td>\n",
       "      <td>4</td>\n",
       "      <td>life insurance</td>\n",
       "      <td>45</td>\n",
       "      <td>none</td>\n",
       "      <td>...</td>\n",
       "      <td>1</td>\n",
       "      <td>skilled</td>\n",
       "      <td>2</td>\n",
       "      <td>none</td>\n",
       "      <td>yes</td>\n",
       "      <td>good</td>\n",
       "      <td>male</td>\n",
       "      <td>single</td>\n",
       "      <td>4-6 years</td>\n",
       "      <td>less than 100</td>\n",
       "    </tr>\n",
       "    <tr>\n",
       "      <th>4</th>\n",
       "      <td>24</td>\n",
       "      <td>delayed previously</td>\n",
       "      <td>new car</td>\n",
       "      <td>4870</td>\n",
       "      <td>3</td>\n",
       "      <td>none</td>\n",
       "      <td>4</td>\n",
       "      <td>no known property</td>\n",
       "      <td>53</td>\n",
       "      <td>none</td>\n",
       "      <td>...</td>\n",
       "      <td>2</td>\n",
       "      <td>skilled</td>\n",
       "      <td>2</td>\n",
       "      <td>none</td>\n",
       "      <td>yes</td>\n",
       "      <td>bad</td>\n",
       "      <td>male</td>\n",
       "      <td>single</td>\n",
       "      <td>1-3 years</td>\n",
       "      <td>less than 100</td>\n",
       "    </tr>\n",
       "  </tbody>\n",
       "</table>\n",
       "<p>5 rows × 21 columns</p>\n",
       "</div>"
      ],
      "text/plain": [
       "   Duration in months                  Credit history Purpose of the credit  \\\n",
       "0                   6  critical/other existing credit              radio/tv   \n",
       "1                  48                   existing paid              radio/tv   \n",
       "2                  12  critical/other existing credit             education   \n",
       "3                  42                   existing paid   furniture/equipment   \n",
       "4                  24              delayed previously               new car   \n",
       "\n",
       "   Credit amount  Installment rate in percentage of disposable income  \\\n",
       "0           1169                                                  4     \n",
       "1           5951                                                  2     \n",
       "2           2096                                                  2     \n",
       "3           7882                                                  2     \n",
       "4           4870                                                  3     \n",
       "\n",
       "  Other debtors / guarantors  Present residence since X years  \\\n",
       "0                       none                                4   \n",
       "1                       none                                2   \n",
       "2                       none                                3   \n",
       "3                  guarantor                                4   \n",
       "4                       none                                4   \n",
       "\n",
       "            Property  Age in years Other installment plans (banks/stores)  \\\n",
       "0        real estate            67                                   none   \n",
       "1        real estate            22                                   none   \n",
       "2        real estate            49                                   none   \n",
       "3     life insurance            45                                   none   \n",
       "4  no known property            53                                   none   \n",
       "\n",
       "   ... Number of existing credits at this bank                 Job  \\\n",
       "0  ...                                       2             skilled   \n",
       "1  ...                                       1             skilled   \n",
       "2  ...                                       1  unskilled_resident   \n",
       "3  ...                                       1             skilled   \n",
       "4  ...                                       2             skilled   \n",
       "\n",
       "  Number of people being liable to provide maintenance for  Telephone  \\\n",
       "0                                                  1              yes   \n",
       "1                                                  1             none   \n",
       "2                                                  2             none   \n",
       "3                                                  2             none   \n",
       "4                                                  2             none   \n",
       "\n",
       "  Foreign worker Status of existing checking account  Gender       Status  \\\n",
       "0            yes                                good    male       single   \n",
       "1            yes                                 bad  female  div/dep/mar   \n",
       "2            yes                                good    male       single   \n",
       "3            yes                                good    male       single   \n",
       "4            yes                                 bad    male       single   \n",
       "\n",
       "  Years_Employments  Saving_Status  \n",
       "0   7 or more years     no savings  \n",
       "1         1-3 years  less than 100  \n",
       "2         4-6 years  less than 100  \n",
       "3         4-6 years  less than 100  \n",
       "4         1-3 years  less than 100  \n",
       "\n",
       "[5 rows x 21 columns]"
      ]
     },
     "execution_count": 32,
     "metadata": {},
     "output_type": "execute_result"
    }
   ],
   "source": [
    "data.head(5)"
   ]
  },
  {
   "cell_type": "markdown",
   "metadata": {
    "id": "lqF48LOu0F3N"
   },
   "source": [
    " **Renomme les colonnes**"
   ]
  },
  {
   "cell_type": "code",
   "execution_count": 33,
   "metadata": {
    "id": "VvDLYz0izzvp"
   },
   "outputs": [],
   "source": [
    "data = data.rename(columns = {\"Number of existing credits at this bank\":\"Num_Existing_Credits\",\n",
    "                                 \"Installment rate in percentage of disposable income\":\"Installment_Rate_Percent\",\n",
    "                                 \"Other installment plans (banks/stores)\":\"Other_Inst_Plans\",\n",
    "                                 \"Present residence since X years\":\"Residence_Years\",\n",
    "                                 \"Number of people being liable to provide maintenance for\":\"Liable_People\",\n",
    "                                 \"Duration in months\":\"Durations\",\n",
    "                                 \"Purpose of the credit\":\"Credit_Purpose\",\n",
    "                                 \"Status of existing checking account\":\"Checking_Account_Status\"})"
   ]
  },
  {
   "cell_type": "markdown",
   "metadata": {
    "id": "BY_3Gtqi06g6"
   },
   "source": [
    "*Sauvegarde des dataframes propre*"
   ]
  },
  {
   "cell_type": "code",
   "execution_count": null,
   "metadata": {
    "id": "CP-kgLda0h9v"
   },
   "outputs": [],
   "source": [
    "#data.to_csv('/content/drive/MyDrive/Colab Notebooks/Data/Credit_cleaned.csv', index=False)"
   ]
  },
  {
   "cell_type": "code",
   "execution_count": null,
   "metadata": {
    "id": "zA10CJK81F6G"
   },
   "outputs": [],
   "source": [
    "#data.to_json('/content/drive/MyDrive/Colab Notebooks/Data/Credit_cleaned.json', orient='records', lines=True)"
   ]
  },
  {
   "cell_type": "markdown",
   "metadata": {
    "id": "LEz7bY1Qv5fN"
   },
   "source": [
    "VISUALISATION"
   ]
  },
  {
   "cell_type": "code",
   "execution_count": null,
   "metadata": {
    "id": "LrM74Ui61ers"
   },
   "outputs": [],
   "source": [
    "\n",
    "#Credit_cleaned = pd.read_json('/content/drive/MyDrive/Colab Notebooks/Data/Credit_cleaned.json', lines=True)\n",
    "#Credit_cleaned"
   ]
  },
  {
   "cell_type": "code",
   "execution_count": null,
   "metadata": {
    "colab": {
     "base_uri": "https://localhost:8080/",
     "height": 241
    },
    "executionInfo": {
     "elapsed": 903,
     "status": "ok",
     "timestamp": 1739463246213,
     "user": {
      "displayName": "Nazifou AFOLABI",
      "userId": "11875506910543098987"
     },
     "user_tz": -60
    },
    "id": "hhKrpSjZut0q",
    "outputId": "628b18ce-e7d8-4a7f-f86e-16d7229864c0"
   },
   "outputs": [
    {
     "data": {
      "text/html": [
       "<div>\n",
       "<style scoped>\n",
       "    .dataframe tbody tr th:only-of-type {\n",
       "        vertical-align: middle;\n",
       "    }\n",
       "\n",
       "    .dataframe tbody tr th {\n",
       "        vertical-align: top;\n",
       "    }\n",
       "\n",
       "    .dataframe thead th {\n",
       "        text-align: right;\n",
       "    }\n",
       "</style>\n",
       "<table border=\"1\" class=\"dataframe\">\n",
       "  <thead>\n",
       "    <tr style=\"text-align: right;\">\n",
       "      <th></th>\n",
       "      <th>count</th>\n",
       "    </tr>\n",
       "    <tr>\n",
       "      <th>Status</th>\n",
       "      <th></th>\n",
       "    </tr>\n",
       "  </thead>\n",
       "  <tbody>\n",
       "    <tr>\n",
       "      <th>div/sep</th>\n",
       "      <td>50</td>\n",
       "    </tr>\n",
       "    <tr>\n",
       "      <th>mar/wid</th>\n",
       "      <td>92</td>\n",
       "    </tr>\n",
       "    <tr>\n",
       "      <th>div/dep/mar</th>\n",
       "      <td>310</td>\n",
       "    </tr>\n",
       "    <tr>\n",
       "      <th>single</th>\n",
       "      <td>548</td>\n",
       "    </tr>\n",
       "  </tbody>\n",
       "</table>\n",
       "</div><br><label><b>dtype:</b> int64</label>"
      ],
      "text/plain": [
       "Status\n",
       "div/sep         50\n",
       "mar/wid         92\n",
       "div/dep/mar    310\n",
       "single         548\n",
       "Name: count, dtype: int64"
      ]
     },
     "execution_count": 31,
     "metadata": {},
     "output_type": "execute_result"
    }
   ],
   "source": [
    "# Regrouper par 'Status' et compter les occurrences, puis trier en ordre décroissant\n",
    "status_counts = data['Status'].value_counts(ascending=True)\n",
    "status_counts"
   ]
  }
 ],
 "metadata": {
  "colab": {
   "authorship_tag": "ABX9TyMzsoTjo1EqFnBdSD0LpOtX",
   "mount_file_id": "12zohlLDohHXhelPyl1O4r-q4_RcoqcR6",
   "provenance": []
  },
  "kernelspec": {
   "display_name": "venv",
   "language": "python",
   "name": "python3"
  },
  "language_info": {
   "codemirror_mode": {
    "name": "ipython",
    "version": 3
   },
   "file_extension": ".py",
   "mimetype": "text/x-python",
   "name": "python",
   "nbconvert_exporter": "python",
   "pygments_lexer": "ipython3",
   "version": "3.13.2"
  }
 },
 "nbformat": 4,
 "nbformat_minor": 0
}
