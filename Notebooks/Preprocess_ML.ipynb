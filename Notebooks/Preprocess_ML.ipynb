{
 "cells": [
  {
   "cell_type": "markdown",
   "metadata": {},
   "source": [
    "## Prétraitement des données \n",
    "\n"
   ]
  },
  {
   "cell_type": "code",
   "execution_count": 9,
   "metadata": {},
   "outputs": [],
   "source": [
    "import os\n",
    "import warnings\n",
    "import pandas as pd\n",
    "import matplotlib.pyplot as plt\n",
    "import seaborn as sns\n",
    "import numpy as np\n",
    "from sklearn.model_selection import train_test_split\n",
    "from sklearn.preprocessing import MinMaxScaler\n",
    "from sklearn.preprocessing import OneHotEncoder\n",
    "from sklearn.linear_model import LogisticRegression\n",
    "from sklearn.ensemble import RandomForestClassifier\n",
    "from sklearn.tree import DecisionTreeClassifier\n",
    "from xgboost import XGBClassifier\n",
    "from sklearn.model_selection import RandomizedSearchCV\n",
    "from sklearn.metrics import accuracy_score\n",
    "from scipy.stats import randint\n",
    "from sklearn.model_selection import GridSearchCV\n",
    "from sklearn.preprocessing import LabelEncoder, StandardScaler\n",
    "from sklearn.metrics import classification_report, confusion_matrix, accuracy_score\n",
    "\n",
    "from scipy.stats import chi2_contingency\n",
    "\n",
    "\n",
    "%matplotlib inline\n",
    "sns.set_theme(color_codes=True)\n",
    "\n",
    "warnings.filterwarnings('ignore')"
   ]
  },
  {
   "cell_type": "markdown",
   "metadata": {},
   "source": [
    "1- Les données "
   ]
  },
  {
   "cell_type": "code",
   "execution_count": 10,
   "metadata": {},
   "outputs": [],
   "source": [
    "path = os.getcwd()\n",
    "chemin_repertoire = os.path.join(path, '../Data')\n",
    "\n",
    "# chemin fichier\n",
    "chemin_data = os.path.join(chemin_repertoire, 'Credit_cleaned.csv')"
   ]
  },
  {
   "cell_type": "code",
   "execution_count": 11,
   "metadata": {},
   "outputs": [
    {
     "data": {
      "text/html": [
       "<div>\n",
       "<style scoped>\n",
       "    .dataframe tbody tr th:only-of-type {\n",
       "        vertical-align: middle;\n",
       "    }\n",
       "\n",
       "    .dataframe tbody tr th {\n",
       "        vertical-align: top;\n",
       "    }\n",
       "\n",
       "    .dataframe thead th {\n",
       "        text-align: right;\n",
       "    }\n",
       "</style>\n",
       "<table border=\"1\" class=\"dataframe\">\n",
       "  <thead>\n",
       "    <tr style=\"text-align: right;\">\n",
       "      <th></th>\n",
       "      <th>Durations</th>\n",
       "      <th>Credit history</th>\n",
       "      <th>Credit_Purpose</th>\n",
       "      <th>Credit amount</th>\n",
       "      <th>Installment_Rate_Percent</th>\n",
       "      <th>Other debtors / guarantors</th>\n",
       "      <th>Residence_Years</th>\n",
       "      <th>Property</th>\n",
       "      <th>Age in years</th>\n",
       "      <th>Other_Inst_Plans</th>\n",
       "      <th>...</th>\n",
       "      <th>Num_Existing_Credits</th>\n",
       "      <th>Job</th>\n",
       "      <th>Liable_People</th>\n",
       "      <th>Telephone</th>\n",
       "      <th>Foreign worker</th>\n",
       "      <th>Checking_Account_Status</th>\n",
       "      <th>Gender</th>\n",
       "      <th>Status</th>\n",
       "      <th>Years_Employments</th>\n",
       "      <th>Saving_Status</th>\n",
       "    </tr>\n",
       "  </thead>\n",
       "  <tbody>\n",
       "    <tr>\n",
       "      <th>0</th>\n",
       "      <td>6</td>\n",
       "      <td>critical/other existing credit</td>\n",
       "      <td>radio/tv</td>\n",
       "      <td>1169</td>\n",
       "      <td>4</td>\n",
       "      <td>none</td>\n",
       "      <td>4</td>\n",
       "      <td>real estate</td>\n",
       "      <td>67</td>\n",
       "      <td>none</td>\n",
       "      <td>...</td>\n",
       "      <td>2</td>\n",
       "      <td>skilled</td>\n",
       "      <td>1</td>\n",
       "      <td>yes</td>\n",
       "      <td>yes</td>\n",
       "      <td>good</td>\n",
       "      <td>male</td>\n",
       "      <td>single</td>\n",
       "      <td>7 or more years</td>\n",
       "      <td>no savings</td>\n",
       "    </tr>\n",
       "    <tr>\n",
       "      <th>1</th>\n",
       "      <td>48</td>\n",
       "      <td>existing paid</td>\n",
       "      <td>radio/tv</td>\n",
       "      <td>5951</td>\n",
       "      <td>2</td>\n",
       "      <td>none</td>\n",
       "      <td>2</td>\n",
       "      <td>real estate</td>\n",
       "      <td>22</td>\n",
       "      <td>none</td>\n",
       "      <td>...</td>\n",
       "      <td>1</td>\n",
       "      <td>skilled</td>\n",
       "      <td>1</td>\n",
       "      <td>none</td>\n",
       "      <td>yes</td>\n",
       "      <td>bad</td>\n",
       "      <td>female</td>\n",
       "      <td>div/dep/mar</td>\n",
       "      <td>1-3 years</td>\n",
       "      <td>less than 100</td>\n",
       "    </tr>\n",
       "    <tr>\n",
       "      <th>2</th>\n",
       "      <td>12</td>\n",
       "      <td>critical/other existing credit</td>\n",
       "      <td>education</td>\n",
       "      <td>2096</td>\n",
       "      <td>2</td>\n",
       "      <td>none</td>\n",
       "      <td>3</td>\n",
       "      <td>real estate</td>\n",
       "      <td>49</td>\n",
       "      <td>none</td>\n",
       "      <td>...</td>\n",
       "      <td>1</td>\n",
       "      <td>unskilled_resident</td>\n",
       "      <td>2</td>\n",
       "      <td>none</td>\n",
       "      <td>yes</td>\n",
       "      <td>good</td>\n",
       "      <td>male</td>\n",
       "      <td>single</td>\n",
       "      <td>4-6 years</td>\n",
       "      <td>less than 100</td>\n",
       "    </tr>\n",
       "    <tr>\n",
       "      <th>3</th>\n",
       "      <td>42</td>\n",
       "      <td>existing paid</td>\n",
       "      <td>furniture/equipment</td>\n",
       "      <td>7882</td>\n",
       "      <td>2</td>\n",
       "      <td>guarantor</td>\n",
       "      <td>4</td>\n",
       "      <td>life insurance</td>\n",
       "      <td>45</td>\n",
       "      <td>none</td>\n",
       "      <td>...</td>\n",
       "      <td>1</td>\n",
       "      <td>skilled</td>\n",
       "      <td>2</td>\n",
       "      <td>none</td>\n",
       "      <td>yes</td>\n",
       "      <td>good</td>\n",
       "      <td>male</td>\n",
       "      <td>single</td>\n",
       "      <td>4-6 years</td>\n",
       "      <td>less than 100</td>\n",
       "    </tr>\n",
       "    <tr>\n",
       "      <th>4</th>\n",
       "      <td>24</td>\n",
       "      <td>delayed previously</td>\n",
       "      <td>new car</td>\n",
       "      <td>4870</td>\n",
       "      <td>3</td>\n",
       "      <td>none</td>\n",
       "      <td>4</td>\n",
       "      <td>no known property</td>\n",
       "      <td>53</td>\n",
       "      <td>none</td>\n",
       "      <td>...</td>\n",
       "      <td>2</td>\n",
       "      <td>skilled</td>\n",
       "      <td>2</td>\n",
       "      <td>none</td>\n",
       "      <td>yes</td>\n",
       "      <td>bad</td>\n",
       "      <td>male</td>\n",
       "      <td>single</td>\n",
       "      <td>1-3 years</td>\n",
       "      <td>less than 100</td>\n",
       "    </tr>\n",
       "  </tbody>\n",
       "</table>\n",
       "<p>5 rows × 21 columns</p>\n",
       "</div>"
      ],
      "text/plain": [
       "   Durations                  Credit history       Credit_Purpose  \\\n",
       "0          6  critical/other existing credit             radio/tv   \n",
       "1         48                   existing paid             radio/tv   \n",
       "2         12  critical/other existing credit            education   \n",
       "3         42                   existing paid  furniture/equipment   \n",
       "4         24              delayed previously              new car   \n",
       "\n",
       "   Credit amount  Installment_Rate_Percent Other debtors / guarantors  \\\n",
       "0           1169                         4                       none   \n",
       "1           5951                         2                       none   \n",
       "2           2096                         2                       none   \n",
       "3           7882                         2                  guarantor   \n",
       "4           4870                         3                       none   \n",
       "\n",
       "   Residence_Years           Property  Age in years Other_Inst_Plans  ...  \\\n",
       "0                4        real estate            67             none  ...   \n",
       "1                2        real estate            22             none  ...   \n",
       "2                3        real estate            49             none  ...   \n",
       "3                4     life insurance            45             none  ...   \n",
       "4                4  no known property            53             none  ...   \n",
       "\n",
       "  Num_Existing_Credits                 Job Liable_People  Telephone  \\\n",
       "0                    2             skilled             1        yes   \n",
       "1                    1             skilled             1       none   \n",
       "2                    1  unskilled_resident             2       none   \n",
       "3                    1             skilled             2       none   \n",
       "4                    2             skilled             2       none   \n",
       "\n",
       "  Foreign worker Checking_Account_Status  Gender       Status  \\\n",
       "0            yes                    good    male       single   \n",
       "1            yes                     bad  female  div/dep/mar   \n",
       "2            yes                    good    male       single   \n",
       "3            yes                    good    male       single   \n",
       "4            yes                     bad    male       single   \n",
       "\n",
       "  Years_Employments  Saving_Status  \n",
       "0   7 or more years     no savings  \n",
       "1         1-3 years  less than 100  \n",
       "2         4-6 years  less than 100  \n",
       "3         4-6 years  less than 100  \n",
       "4         1-3 years  less than 100  \n",
       "\n",
       "[5 rows x 21 columns]"
      ]
     },
     "execution_count": 11,
     "metadata": {},
     "output_type": "execute_result"
    }
   ],
   "source": [
    "df = pd.read_csv(chemin_data)\n",
    "df.head()"
   ]
  },
  {
   "cell_type": "code",
   "execution_count": 12,
   "metadata": {},
   "outputs": [],
   "source": [
    "# renommer les colonnes \n",
    "#df.columns"
   ]
  },
  {
   "cell_type": "markdown",
   "metadata": {},
   "source": [
    "ANALYSE ET RECODAGE DES MODALITES "
   ]
  },
  {
   "cell_type": "code",
   "execution_count": 13,
   "metadata": {},
   "outputs": [
    {
     "name": "stdout",
     "output_type": "stream",
     "text": [
      "Modalités de Credit history :\n",
      "Credit history\n",
      "existing paid                     530\n",
      "critical/other existing credit    293\n",
      "delayed previously                 88\n",
      "all paid                           49\n",
      "no credits/all paid                40\n",
      "Name: count, dtype: int64\n",
      "----------------------------------------\n",
      "Modalités de Credit_Purpose :\n",
      "Credit_Purpose\n",
      "radio/tv               280\n",
      "new car                234\n",
      "furniture/equipment    181\n",
      "used car               103\n",
      "business                97\n",
      "education               50\n",
      "repairs                 22\n",
      "domestic appliance      12\n",
      "other                   12\n",
      "retraining               9\n",
      "Name: count, dtype: int64\n",
      "----------------------------------------\n",
      "Modalités de Other debtors / guarantors :\n",
      "Other debtors / guarantors\n",
      "none            907\n",
      "guarantor        52\n",
      "co applicant     41\n",
      "Name: count, dtype: int64\n",
      "----------------------------------------\n",
      "Modalités de Property :\n",
      "Property\n",
      "car                  332\n",
      "real estate          282\n",
      "life insurance       232\n",
      "no known property    154\n",
      "Name: count, dtype: int64\n",
      "----------------------------------------\n",
      "Modalités de Other_Inst_Plans :\n",
      "Other_Inst_Plans\n",
      "none      814\n",
      "bank      139\n",
      "stores     47\n",
      "Name: count, dtype: int64\n",
      "----------------------------------------\n",
      "Modalités de Housing :\n",
      "Housing\n",
      "own         713\n",
      "rent        179\n",
      "for free    108\n",
      "Name: count, dtype: int64\n",
      "----------------------------------------\n",
      "Modalités de Job :\n",
      "Job\n",
      "skilled                      630\n",
      "unskilled_resident           200\n",
      "high_qualif_self_emp_mgmt    148\n",
      "unemp_unskilled_non_res       22\n",
      "Name: count, dtype: int64\n",
      "----------------------------------------\n",
      "Modalités de Telephone :\n",
      "Telephone\n",
      "none    596\n",
      "yes     404\n",
      "Name: count, dtype: int64\n",
      "----------------------------------------\n",
      "Modalités de Foreign worker :\n",
      "Foreign worker\n",
      "yes    963\n",
      "no      37\n",
      "Name: count, dtype: int64\n",
      "----------------------------------------\n",
      "Modalités de Checking_Account_Status :\n",
      "Checking_Account_Status\n",
      "good    700\n",
      "bad     300\n",
      "Name: count, dtype: int64\n",
      "----------------------------------------\n",
      "Modalités de Gender :\n",
      "Gender\n",
      "male      690\n",
      "female    310\n",
      "Name: count, dtype: int64\n",
      "----------------------------------------\n",
      "Modalités de Status :\n",
      "Status\n",
      "single         548\n",
      "div/dep/mar    310\n",
      "mar/wid         92\n",
      "div/sep         50\n",
      "Name: count, dtype: int64\n",
      "----------------------------------------\n",
      "Modalités de Years_Employments :\n",
      "Years_Employments\n",
      "1-3 years           339\n",
      "7 or more years     253\n",
      "4-6 years           174\n",
      "less than 1 year    172\n",
      "unemployed           62\n",
      "Name: count, dtype: int64\n",
      "----------------------------------------\n",
      "Modalités de Saving_Status :\n",
      "Saving_Status\n",
      "less than 100     603\n",
      "no savings        183\n",
      "100-500           103\n",
      "500-1000           63\n",
      "more than 1000     48\n",
      "Name: count, dtype: int64\n",
      "----------------------------------------\n"
     ]
    }
   ],
   "source": [
    "# Lister les modalités uniques pour chaque variable catégorielle\n",
    "for col in df.select_dtypes(include=['object', 'category']).columns:\n",
    "    print(f\"Modalités de {col} :\")\n",
    "    print(df[col].value_counts())  # Ajoute normalize=True pour voir les proportions\n",
    "    print(\"-\" * 40)"
   ]
  },
  {
   "cell_type": "markdown",
   "metadata": {},
   "source": [
    " Une analyse rapide avec des propositions des variables catégorielles nous suggère un regroupements pour simplifier les modalités de certaines variables catégorielles, en particulier celles déséquilibrées ou très fragmentées.\n",
    "\n",
    "**job** :  Regrouper les 2 dernières en une seule catégorie \"other\" est aussi envisageable si tu veux simplifier encore plus. \n",
    "\n",
    "**Foreign worker** : Très déséquilibrée, à supprimer (déjà suggéré plus haut), car elle n’apporte pas de diversité significative.\n",
    "\n",
    "**Telephone** : Binaire, pas besoin de regroupement. Mais comme dit précédemment, tu peux la supprimer si elle est redondante avec Job.\n",
    "\n",
    "**Status** : mar/wid et div/sep ensemble si tu veux 2 classes seulement : `single` vs `not_single`.\n",
    "\n",
    "**Years_Employments** : regrouper en `short`, `mid`, `long` et  `unemployed`  Cela te donne une variable plus stable avec 4 modalités maximum.\n",
    "\n",
    "**Saving_Status** : regrouper en 3 modalités `low`, `medium`  et `high`\n",
    "pour avoir une variable plus stable avec 3 modalités maximum.\n",
    "\n",
    "**Gender** (69% homme) : >Variable binaire. Si tu la gardes, tu peux la garder telle quelle, mais comme elle est très corrélée à Foreign worker, tu peux la supprimer aussi.\n",
    "\n"
   ]
  },
  {
   "cell_type": "markdown",
   "metadata": {},
   "source": [
    "Suppression de certaines variables juger pas pertinente pour la modélisation  "
   ]
  },
  {
   "cell_type": "code",
   "execution_count": 14,
   "metadata": {},
   "outputs": [],
   "source": [
    "#df.columns\n",
    "#df.shape"
   ]
  },
  {
   "cell_type": "code",
   "execution_count": 15,
   "metadata": {},
   "outputs": [
    {
     "name": "stdout",
     "output_type": "stream",
     "text": [
      "Colonnes restantes : ['Durations', 'Credit history', 'Credit_Purpose', 'Credit amount', 'Installment_Rate_Percent', 'Other debtors / guarantors', 'Residence_Years', 'Property', 'Age in years', 'Other_Inst_Plans', 'Num_Existing_Credits', 'Job', 'Liable_People', 'Checking_Account_Status', 'Status', 'Years_Employments', 'Saving_Status']\n",
      "la dimension : (1000, 17)\n"
     ]
    }
   ],
   "source": [
    "# Supposons de certaines variables ton DataFrame df jugée pas trop pertinent pour notre objectif\n",
    "variables_a_supprimer = ['Gender', 'Telephone', 'Housing', 'Foreign worker']\n",
    "\n",
    "# Suppression des colonnes\n",
    "df = df.drop(columns=variables_a_supprimer)\n",
    "\n",
    "# Vérification\n",
    "print(\"Colonnes restantes :\", df.columns.tolist())\n",
    "print(\"la dimension :\", df.shape)"
   ]
  },
  {
   "cell_type": "markdown",
   "metadata": {},
   "source": [
    "**Regroupement des modalités**"
   ]
  },
  {
   "cell_type": "code",
   "execution_count": 16,
   "metadata": {},
   "outputs": [
    {
     "name": "stdout",
     "output_type": "stream",
     "text": [
      "Nouvelles colonnes ajoutées : ['Job_Grouped', 'Status_Grouped', 'Years_Employments_Grouped', 'Saving_Status_Grouped', 'Credit_Purpose_Grouped', 'Credit_History_Grouped']\n"
     ]
    }
   ],
   "source": [
    "# Regroupement des modalités pour la variable Job\n",
    "df['Job_Grouped'] = df['Job'].replace({\n",
    "    'skilled': 'skilled',\n",
    "    'unskilled_resident': 'unskilled',\n",
    "    'high_qualif_self_emp_mgmt': 'qualified',\n",
    "    'unemp_unskilled_non_res': 'unskilled'  # ou 'other' si tu veux une classe à part\n",
    "})\n",
    "\n",
    "# Regroupement pour Status\n",
    "df['Status_Grouped'] = df['Status'].replace({\n",
    "    'single': 'single',\n",
    "    'div/dep/mar': 'not_single',\n",
    "    'mar/wid': 'not_single',\n",
    "    'div/sep': 'not_single'\n",
    "})\n",
    "\n",
    "# Regroupement pour Years_Employments\n",
    "df['Years_Employments_Grouped'] = df['Years_Employments'].replace({\n",
    "    'less than 1 year': 'short',\n",
    "    '1-3 years': 'short',\n",
    "    '4-6 years': 'mid',\n",
    "    '7 or more years': 'long',\n",
    "    'unemployed': 'unemployed'\n",
    "})\n",
    "\n",
    "# Regroupement pour Saving_Status\n",
    "df['Saving_Status_Grouped'] = df['Saving_Status'].replace({\n",
    "    'no savings': 'low',\n",
    "    'less than 100': 'low',\n",
    "    '100-500': 'medium',\n",
    "    '500-1000': 'high',\n",
    "    'more than 1000': 'high'\n",
    "})\n",
    "\n",
    "# Regroupement pour Credit_Purpose\n",
    "df['Credit_Purpose_Grouped'] = df['Credit_Purpose'].replace({\n",
    "    'radio/tv': 'electronics',\n",
    "    'domestic appliance': 'electronics',\n",
    "    'furniture/equipment': 'household',\n",
    "    'repairs': 'household',\n",
    "    'new car': 'car',\n",
    "    'used car': 'car',\n",
    "    'education': 'education',\n",
    "    'retraining': 'education',\n",
    "    'business': 'business',\n",
    "    'other': 'other'\n",
    "})\n",
    "\n",
    "# Regroupement pour Credit history\n",
    "df['Credit_History_Grouped'] = df['Credit history'].replace({\n",
    "    'no credits/all paid': 'good',\n",
    "    'all paid': 'good',\n",
    "    'existing paid': 'average',\n",
    "    'delayed previously': 'poor',\n",
    "    'critical/other existing credit': 'critical'\n",
    "})\n",
    "\n",
    "\n",
    "# Suppression des anciennes colonnes après regroupement\n",
    "df = df.drop(columns=['Job', 'Status', 'Years_Employments', 'Saving_Status', 'Credit_Purpose', 'Credit history'])\n",
    "\n",
    "# Vérification rapide\n",
    "print(\"Nouvelles colonnes ajoutées :\", ['Job_Grouped', 'Status_Grouped', 'Years_Employments_Grouped', 'Saving_Status_Grouped', 'Credit_Purpose_Grouped','Credit_History_Grouped'])\n"
   ]
  },
  {
   "cell_type": "markdown",
   "metadata": {},
   "source": [
    "**Renommer les colonnes regroupées**"
   ]
  },
  {
   "cell_type": "code",
   "execution_count": 17,
   "metadata": {},
   "outputs": [
    {
     "data": {
      "text/html": [
       "<div>\n",
       "<style scoped>\n",
       "    .dataframe tbody tr th:only-of-type {\n",
       "        vertical-align: middle;\n",
       "    }\n",
       "\n",
       "    .dataframe tbody tr th {\n",
       "        vertical-align: top;\n",
       "    }\n",
       "\n",
       "    .dataframe thead th {\n",
       "        text-align: right;\n",
       "    }\n",
       "</style>\n",
       "<table border=\"1\" class=\"dataframe\">\n",
       "  <thead>\n",
       "    <tr style=\"text-align: right;\">\n",
       "      <th></th>\n",
       "      <th>Durations</th>\n",
       "      <th>Credit amount</th>\n",
       "      <th>Installment_Rate_Percent</th>\n",
       "      <th>Other debtors / guarantors</th>\n",
       "      <th>Residence_Years</th>\n",
       "      <th>Property</th>\n",
       "      <th>Age in years</th>\n",
       "      <th>Other_Inst_Plans</th>\n",
       "      <th>Num_Existing_Credits</th>\n",
       "      <th>Liable_People</th>\n",
       "      <th>Checking_Account_Status</th>\n",
       "      <th>Job_Grouped</th>\n",
       "      <th>Status_Grouped</th>\n",
       "      <th>Years_Employments_Grouped</th>\n",
       "      <th>Saving_Status_Grouped</th>\n",
       "      <th>Credit_Purpose_Grouped</th>\n",
       "      <th>Credit_History_Grouped</th>\n",
       "    </tr>\n",
       "  </thead>\n",
       "  <tbody>\n",
       "    <tr>\n",
       "      <th>0</th>\n",
       "      <td>6</td>\n",
       "      <td>1169</td>\n",
       "      <td>4</td>\n",
       "      <td>none</td>\n",
       "      <td>4</td>\n",
       "      <td>real estate</td>\n",
       "      <td>67</td>\n",
       "      <td>none</td>\n",
       "      <td>2</td>\n",
       "      <td>1</td>\n",
       "      <td>good</td>\n",
       "      <td>skilled</td>\n",
       "      <td>single</td>\n",
       "      <td>long</td>\n",
       "      <td>low</td>\n",
       "      <td>electronics</td>\n",
       "      <td>critical</td>\n",
       "    </tr>\n",
       "    <tr>\n",
       "      <th>1</th>\n",
       "      <td>48</td>\n",
       "      <td>5951</td>\n",
       "      <td>2</td>\n",
       "      <td>none</td>\n",
       "      <td>2</td>\n",
       "      <td>real estate</td>\n",
       "      <td>22</td>\n",
       "      <td>none</td>\n",
       "      <td>1</td>\n",
       "      <td>1</td>\n",
       "      <td>bad</td>\n",
       "      <td>skilled</td>\n",
       "      <td>not_single</td>\n",
       "      <td>short</td>\n",
       "      <td>low</td>\n",
       "      <td>electronics</td>\n",
       "      <td>average</td>\n",
       "    </tr>\n",
       "  </tbody>\n",
       "</table>\n",
       "</div>"
      ],
      "text/plain": [
       "   Durations  Credit amount  Installment_Rate_Percent  \\\n",
       "0          6           1169                         4   \n",
       "1         48           5951                         2   \n",
       "\n",
       "  Other debtors / guarantors  Residence_Years     Property  Age in years  \\\n",
       "0                       none                4  real estate            67   \n",
       "1                       none                2  real estate            22   \n",
       "\n",
       "  Other_Inst_Plans  Num_Existing_Credits  Liable_People  \\\n",
       "0             none                     2              1   \n",
       "1             none                     1              1   \n",
       "\n",
       "  Checking_Account_Status Job_Grouped Status_Grouped  \\\n",
       "0                    good     skilled         single   \n",
       "1                     bad     skilled     not_single   \n",
       "\n",
       "  Years_Employments_Grouped Saving_Status_Grouped Credit_Purpose_Grouped  \\\n",
       "0                      long                   low            electronics   \n",
       "1                     short                   low            electronics   \n",
       "\n",
       "  Credit_History_Grouped  \n",
       "0               critical  \n",
       "1                average  "
      ]
     },
     "execution_count": 17,
     "metadata": {},
     "output_type": "execute_result"
    }
   ],
   "source": [
    "df.head(2)"
   ]
  },
  {
   "cell_type": "code",
   "execution_count": 18,
   "metadata": {},
   "outputs": [
    {
     "name": "stdout",
     "output_type": "stream",
     "text": [
      "Colonnes renommées : ['Durations', 'Credit_amount', 'Installment_Rate_Percent', 'Other_debtors_guarantors', 'Residence_Years', 'Property', 'Age', 'Other_Inst_Plans', 'Num_Existing_Credits', 'Liable_People', 'Checking_Account_Status', 'Job', 'Status', 'Years_Employments', 'Saving_Status', 'Credit_Purpose', 'Credit_history']\n"
     ]
    }
   ],
   "source": [
    "\n",
    "df = df.rename(columns={\n",
    "    'Job_Grouped': 'Job',\n",
    "    'Status_Grouped': 'Status',\n",
    "    'Years_Employments_Grouped': 'Years_Employments',\n",
    "    'Saving_Status_Grouped': 'Saving_Status',\n",
    "    'Credit_Purpose_Grouped': 'Credit_Purpose',\n",
    "    'Credit_History_Grouped': 'Credit_history',\n",
    "    'Credit amount' : 'Credit_amount',\n",
    "    'Other debtors / guarantors': 'Other_debtors_guarantors',\n",
    "    'Age in years' : 'Age', \n",
    "    'Foreign worker' : 'Foreign_worker'\n",
    "    \n",
    "    \n",
    "})\n",
    "\n",
    "# Vérification\n",
    "print(\"Colonnes renommées :\", df.columns.tolist())"
   ]
  },
  {
   "cell_type": "code",
   "execution_count": 19,
   "metadata": {},
   "outputs": [
    {
     "data": {
      "text/html": [
       "<div>\n",
       "<style scoped>\n",
       "    .dataframe tbody tr th:only-of-type {\n",
       "        vertical-align: middle;\n",
       "    }\n",
       "\n",
       "    .dataframe tbody tr th {\n",
       "        vertical-align: top;\n",
       "    }\n",
       "\n",
       "    .dataframe thead th {\n",
       "        text-align: right;\n",
       "    }\n",
       "</style>\n",
       "<table border=\"1\" class=\"dataframe\">\n",
       "  <thead>\n",
       "    <tr style=\"text-align: right;\">\n",
       "      <th></th>\n",
       "      <th>Durations</th>\n",
       "      <th>Credit_amount</th>\n",
       "      <th>Installment_Rate_Percent</th>\n",
       "      <th>Other_debtors_guarantors</th>\n",
       "      <th>Residence_Years</th>\n",
       "      <th>Property</th>\n",
       "      <th>Age</th>\n",
       "      <th>Other_Inst_Plans</th>\n",
       "      <th>Num_Existing_Credits</th>\n",
       "      <th>Liable_People</th>\n",
       "      <th>Checking_Account_Status</th>\n",
       "      <th>Job</th>\n",
       "      <th>Status</th>\n",
       "      <th>Years_Employments</th>\n",
       "      <th>Saving_Status</th>\n",
       "      <th>Credit_Purpose</th>\n",
       "      <th>Credit_history</th>\n",
       "    </tr>\n",
       "  </thead>\n",
       "  <tbody>\n",
       "    <tr>\n",
       "      <th>0</th>\n",
       "      <td>6</td>\n",
       "      <td>1169</td>\n",
       "      <td>4</td>\n",
       "      <td>none</td>\n",
       "      <td>4</td>\n",
       "      <td>real estate</td>\n",
       "      <td>67</td>\n",
       "      <td>none</td>\n",
       "      <td>2</td>\n",
       "      <td>1</td>\n",
       "      <td>good</td>\n",
       "      <td>skilled</td>\n",
       "      <td>single</td>\n",
       "      <td>long</td>\n",
       "      <td>low</td>\n",
       "      <td>electronics</td>\n",
       "      <td>critical</td>\n",
       "    </tr>\n",
       "    <tr>\n",
       "      <th>1</th>\n",
       "      <td>48</td>\n",
       "      <td>5951</td>\n",
       "      <td>2</td>\n",
       "      <td>none</td>\n",
       "      <td>2</td>\n",
       "      <td>real estate</td>\n",
       "      <td>22</td>\n",
       "      <td>none</td>\n",
       "      <td>1</td>\n",
       "      <td>1</td>\n",
       "      <td>bad</td>\n",
       "      <td>skilled</td>\n",
       "      <td>not_single</td>\n",
       "      <td>short</td>\n",
       "      <td>low</td>\n",
       "      <td>electronics</td>\n",
       "      <td>average</td>\n",
       "    </tr>\n",
       "    <tr>\n",
       "      <th>2</th>\n",
       "      <td>12</td>\n",
       "      <td>2096</td>\n",
       "      <td>2</td>\n",
       "      <td>none</td>\n",
       "      <td>3</td>\n",
       "      <td>real estate</td>\n",
       "      <td>49</td>\n",
       "      <td>none</td>\n",
       "      <td>1</td>\n",
       "      <td>2</td>\n",
       "      <td>good</td>\n",
       "      <td>unskilled</td>\n",
       "      <td>single</td>\n",
       "      <td>mid</td>\n",
       "      <td>low</td>\n",
       "      <td>education</td>\n",
       "      <td>critical</td>\n",
       "    </tr>\n",
       "  </tbody>\n",
       "</table>\n",
       "</div>"
      ],
      "text/plain": [
       "   Durations  Credit_amount  Installment_Rate_Percent  \\\n",
       "0          6           1169                         4   \n",
       "1         48           5951                         2   \n",
       "2         12           2096                         2   \n",
       "\n",
       "  Other_debtors_guarantors  Residence_Years     Property  Age  \\\n",
       "0                     none                4  real estate   67   \n",
       "1                     none                2  real estate   22   \n",
       "2                     none                3  real estate   49   \n",
       "\n",
       "  Other_Inst_Plans  Num_Existing_Credits  Liable_People  \\\n",
       "0             none                     2              1   \n",
       "1             none                     1              1   \n",
       "2             none                     1              2   \n",
       "\n",
       "  Checking_Account_Status        Job      Status Years_Employments  \\\n",
       "0                    good    skilled      single              long   \n",
       "1                     bad    skilled  not_single             short   \n",
       "2                    good  unskilled      single               mid   \n",
       "\n",
       "  Saving_Status Credit_Purpose Credit_history  \n",
       "0           low    electronics       critical  \n",
       "1           low    electronics        average  \n",
       "2           low      education       critical  "
      ]
     },
     "execution_count": 19,
     "metadata": {},
     "output_type": "execute_result"
    }
   ],
   "source": [
    "df.head(3)"
   ]
  },
  {
   "cell_type": "code",
   "execution_count": 20,
   "metadata": {},
   "outputs": [],
   "source": [
    "#df.columns"
   ]
  },
  {
   "cell_type": "markdown",
   "metadata": {},
   "source": [
    "## Modélisation"
   ]
  },
  {
   "cell_type": "code",
   "execution_count": 21,
   "metadata": {},
   "outputs": [
    {
     "data": {
      "text/html": [
       "<div>\n",
       "<style scoped>\n",
       "    .dataframe tbody tr th:only-of-type {\n",
       "        vertical-align: middle;\n",
       "    }\n",
       "\n",
       "    .dataframe tbody tr th {\n",
       "        vertical-align: top;\n",
       "    }\n",
       "\n",
       "    .dataframe thead th {\n",
       "        text-align: right;\n",
       "    }\n",
       "</style>\n",
       "<table border=\"1\" class=\"dataframe\">\n",
       "  <thead>\n",
       "    <tr style=\"text-align: right;\">\n",
       "      <th></th>\n",
       "      <th>Durations</th>\n",
       "      <th>Credit_amount</th>\n",
       "      <th>Installment_Rate_Percent</th>\n",
       "      <th>Other_debtors_guarantors</th>\n",
       "      <th>Residence_Years</th>\n",
       "      <th>Property</th>\n",
       "      <th>Age</th>\n",
       "      <th>Other_Inst_Plans</th>\n",
       "      <th>Num_Existing_Credits</th>\n",
       "      <th>Liable_People</th>\n",
       "      <th>Checking_Account_Status</th>\n",
       "      <th>Job</th>\n",
       "      <th>Status</th>\n",
       "      <th>Years_Employments</th>\n",
       "      <th>Saving_Status</th>\n",
       "      <th>Credit_Purpose</th>\n",
       "      <th>Credit_history</th>\n",
       "    </tr>\n",
       "  </thead>\n",
       "  <tbody>\n",
       "    <tr>\n",
       "      <th>0</th>\n",
       "      <td>6</td>\n",
       "      <td>1169</td>\n",
       "      <td>4</td>\n",
       "      <td>none</td>\n",
       "      <td>4</td>\n",
       "      <td>real estate</td>\n",
       "      <td>67</td>\n",
       "      <td>none</td>\n",
       "      <td>2</td>\n",
       "      <td>1</td>\n",
       "      <td>good</td>\n",
       "      <td>skilled</td>\n",
       "      <td>single</td>\n",
       "      <td>long</td>\n",
       "      <td>low</td>\n",
       "      <td>electronics</td>\n",
       "      <td>critical</td>\n",
       "    </tr>\n",
       "    <tr>\n",
       "      <th>1</th>\n",
       "      <td>48</td>\n",
       "      <td>5951</td>\n",
       "      <td>2</td>\n",
       "      <td>none</td>\n",
       "      <td>2</td>\n",
       "      <td>real estate</td>\n",
       "      <td>22</td>\n",
       "      <td>none</td>\n",
       "      <td>1</td>\n",
       "      <td>1</td>\n",
       "      <td>bad</td>\n",
       "      <td>skilled</td>\n",
       "      <td>not_single</td>\n",
       "      <td>short</td>\n",
       "      <td>low</td>\n",
       "      <td>electronics</td>\n",
       "      <td>average</td>\n",
       "    </tr>\n",
       "    <tr>\n",
       "      <th>2</th>\n",
       "      <td>12</td>\n",
       "      <td>2096</td>\n",
       "      <td>2</td>\n",
       "      <td>none</td>\n",
       "      <td>3</td>\n",
       "      <td>real estate</td>\n",
       "      <td>49</td>\n",
       "      <td>none</td>\n",
       "      <td>1</td>\n",
       "      <td>2</td>\n",
       "      <td>good</td>\n",
       "      <td>unskilled</td>\n",
       "      <td>single</td>\n",
       "      <td>mid</td>\n",
       "      <td>low</td>\n",
       "      <td>education</td>\n",
       "      <td>critical</td>\n",
       "    </tr>\n",
       "    <tr>\n",
       "      <th>3</th>\n",
       "      <td>42</td>\n",
       "      <td>7882</td>\n",
       "      <td>2</td>\n",
       "      <td>guarantor</td>\n",
       "      <td>4</td>\n",
       "      <td>life insurance</td>\n",
       "      <td>45</td>\n",
       "      <td>none</td>\n",
       "      <td>1</td>\n",
       "      <td>2</td>\n",
       "      <td>good</td>\n",
       "      <td>skilled</td>\n",
       "      <td>single</td>\n",
       "      <td>mid</td>\n",
       "      <td>low</td>\n",
       "      <td>household</td>\n",
       "      <td>average</td>\n",
       "    </tr>\n",
       "    <tr>\n",
       "      <th>4</th>\n",
       "      <td>24</td>\n",
       "      <td>4870</td>\n",
       "      <td>3</td>\n",
       "      <td>none</td>\n",
       "      <td>4</td>\n",
       "      <td>no known property</td>\n",
       "      <td>53</td>\n",
       "      <td>none</td>\n",
       "      <td>2</td>\n",
       "      <td>2</td>\n",
       "      <td>bad</td>\n",
       "      <td>skilled</td>\n",
       "      <td>single</td>\n",
       "      <td>short</td>\n",
       "      <td>low</td>\n",
       "      <td>car</td>\n",
       "      <td>poor</td>\n",
       "    </tr>\n",
       "  </tbody>\n",
       "</table>\n",
       "</div>"
      ],
      "text/plain": [
       "   Durations  Credit_amount  Installment_Rate_Percent  \\\n",
       "0          6           1169                         4   \n",
       "1         48           5951                         2   \n",
       "2         12           2096                         2   \n",
       "3         42           7882                         2   \n",
       "4         24           4870                         3   \n",
       "\n",
       "  Other_debtors_guarantors  Residence_Years           Property  Age  \\\n",
       "0                     none                4        real estate   67   \n",
       "1                     none                2        real estate   22   \n",
       "2                     none                3        real estate   49   \n",
       "3                guarantor                4     life insurance   45   \n",
       "4                     none                4  no known property   53   \n",
       "\n",
       "  Other_Inst_Plans  Num_Existing_Credits  Liable_People  \\\n",
       "0             none                     2              1   \n",
       "1             none                     1              1   \n",
       "2             none                     1              2   \n",
       "3             none                     1              2   \n",
       "4             none                     2              2   \n",
       "\n",
       "  Checking_Account_Status        Job      Status Years_Employments  \\\n",
       "0                    good    skilled      single              long   \n",
       "1                     bad    skilled  not_single             short   \n",
       "2                    good  unskilled      single               mid   \n",
       "3                    good    skilled      single               mid   \n",
       "4                     bad    skilled      single             short   \n",
       "\n",
       "  Saving_Status Credit_Purpose Credit_history  \n",
       "0           low    electronics       critical  \n",
       "1           low    electronics        average  \n",
       "2           low      education       critical  \n",
       "3           low      household        average  \n",
       "4           low            car           poor  "
      ]
     },
     "execution_count": 21,
     "metadata": {},
     "output_type": "execute_result"
    }
   ],
   "source": [
    "# Copier le dataset pour éviter de modifier l'original\n",
    "df_prep = df.copy()\n",
    "df_prep.head(5)"
   ]
  },
  {
   "cell_type": "code",
   "execution_count": 22,
   "metadata": {},
   "outputs": [
    {
     "name": "stdout",
     "output_type": "stream",
     "text": [
      "<class 'pandas.core.frame.DataFrame'>\n",
      "RangeIndex: 1000 entries, 0 to 999\n",
      "Data columns (total 17 columns):\n",
      " #   Column                    Non-Null Count  Dtype \n",
      "---  ------                    --------------  ----- \n",
      " 0   Durations                 1000 non-null   int64 \n",
      " 1   Credit_amount             1000 non-null   int64 \n",
      " 2   Installment_Rate_Percent  1000 non-null   int64 \n",
      " 3   Other_debtors_guarantors  1000 non-null   object\n",
      " 4   Residence_Years           1000 non-null   int64 \n",
      " 5   Property                  1000 non-null   object\n",
      " 6   Age                       1000 non-null   int64 \n",
      " 7   Other_Inst_Plans          1000 non-null   object\n",
      " 8   Num_Existing_Credits      1000 non-null   int64 \n",
      " 9   Liable_People             1000 non-null   int64 \n",
      " 10  Checking_Account_Status   1000 non-null   object\n",
      " 11  Job                       1000 non-null   object\n",
      " 12  Status                    1000 non-null   object\n",
      " 13  Years_Employments         1000 non-null   object\n",
      " 14  Saving_Status             1000 non-null   object\n",
      " 15  Credit_Purpose            1000 non-null   object\n",
      " 16  Credit_history            1000 non-null   object\n",
      "dtypes: int64(7), object(10)\n",
      "memory usage: 132.9+ KB\n"
     ]
    }
   ],
   "source": [
    "df_prep.info()"
   ]
  },
  {
   "cell_type": "code",
   "execution_count": 23,
   "metadata": {},
   "outputs": [],
   "source": [
    "#cat =df_prep.select_dtypes(include=['object', 'category']).columns\n",
    "#num= df_prep.select_dtypes(include=['int', 'float']).columns"
   ]
  },
  {
   "cell_type": "markdown",
   "metadata": {},
   "source": [
    "**Encodage des variables**"
   ]
  },
  {
   "cell_type": "markdown",
   "metadata": {},
   "source": [
    "pour l'encodage on exclut la variable `Durations` des variables sélection pour éviter **la multicolinéarité** vu qu'elle est coorélé avec montant de crédit `Credit amount` "
   ]
  },
  {
   "cell_type": "code",
   "execution_count": 24,
   "metadata": {},
   "outputs": [],
   "source": [
    "num_features = ['Credit_amount', 'Installment_Rate_Percent', 'Residence_Years', 'Age', 'Num_Existing_Credits', 'Liable_People'] \n",
    "cat_features =  ['Other_debtors_guarantors', 'Property', 'Other_Inst_Plans', 'Job', 'Status', 'Years_Employments', 'Saving_Status', 'Credit_Purpose', 'Credit_history'] "
   ]
  },
  {
   "cell_type": "code",
   "execution_count": 25,
   "metadata": {},
   "outputs": [],
   "source": [
    "\n",
    "\n",
    "\n",
    "# Appliquer une transformation log sur \"Credit amount\" pour réduire l'impact des valeurs extrêmes (réduit l’effet des outliers ✔️)\n",
    "df_prep[\"Credit_amount\"] = np.log1p(df_prep[\"Credit_amount\"])\n",
    "\n",
    "# Normalisation des variables numériques\n",
    "scaler = StandardScaler()\n",
    "df_prep[num_features] = scaler.fit_transform(df_prep[num_features])\n",
    "\n",
    "# Encodage One-Hot des variables catégorielles\n",
    "df_prep = pd.get_dummies(df_prep, columns=cat_features, drop_first=True)"
   ]
  },
  {
   "cell_type": "code",
   "execution_count": 26,
   "metadata": {},
   "outputs": [
    {
     "data": {
      "text/plain": [
       "Index(['Durations', 'Credit_amount', 'Installment_Rate_Percent',\n",
       "       'Residence_Years', 'Age', 'Num_Existing_Credits', 'Liable_People',\n",
       "       'Checking_Account_Status', 'Other_debtors_guarantors_guarantor',\n",
       "       'Other_debtors_guarantors_none', 'Property_life insurance',\n",
       "       'Property_no known property', 'Property_real estate',\n",
       "       'Other_Inst_Plans_none', 'Other_Inst_Plans_stores', 'Job_skilled',\n",
       "       'Job_unskilled', 'Status_single', 'Years_Employments_mid',\n",
       "       'Years_Employments_short', 'Years_Employments_unemployed',\n",
       "       'Saving_Status_low', 'Saving_Status_medium', 'Credit_Purpose_car',\n",
       "       'Credit_Purpose_education', 'Credit_Purpose_electronics',\n",
       "       'Credit_Purpose_household', 'Credit_Purpose_other',\n",
       "       'Credit_history_critical', 'Credit_history_good',\n",
       "       'Credit_history_poor'],\n",
       "      dtype='object')"
      ]
     },
     "execution_count": 26,
     "metadata": {},
     "output_type": "execute_result"
    }
   ],
   "source": [
    "df_prep.columns"
   ]
  },
  {
   "cell_type": "code",
   "execution_count": 27,
   "metadata": {},
   "outputs": [],
   "source": [
    "# Séparation des variables X et de la cible y \n",
    "\n",
    "# Encodage de la variable cible (Checking_Account_Status : Good -> 0, Bad -> 1)\n",
    "#label_encoder = LabelEncoder()\n",
    "#df_prep[\"Checking_Account_Status\"] = label_encoder.fit_transform(df_prep[\"Checking_Account_Status\"])\n",
    "#label_encoder.classes_\n",
    "\n",
    "\n",
    "y = df_prep[\"Checking_Account_Status\"].apply(lambda x: 1 if x == 'bad' else 0)\n",
    "#y.value_counts()\n",
    "\n",
    "X = df_prep.drop(columns=['Checking_Account_Status', 'Durations'])"
   ]
  },
  {
   "cell_type": "markdown",
   "metadata": {},
   "source": [
    "Encodage de y \n",
    "\n",
    "df_prep[\"Checking_Account_Status\"] == 'good' --> 0\n",
    "\n",
    "df_prep [\"Checking_Account_Status\"] == 'Bad' --> 1"
   ]
  },
  {
   "cell_type": "code",
   "execution_count": 28,
   "metadata": {},
   "outputs": [
    {
     "data": {
      "text/plain": [
       "Index(['Credit_amount', 'Installment_Rate_Percent', 'Residence_Years', 'Age',\n",
       "       'Num_Existing_Credits', 'Liable_People',\n",
       "       'Other_debtors_guarantors_guarantor', 'Other_debtors_guarantors_none',\n",
       "       'Property_life insurance', 'Property_no known property',\n",
       "       'Property_real estate', 'Other_Inst_Plans_none',\n",
       "       'Other_Inst_Plans_stores', 'Job_skilled', 'Job_unskilled',\n",
       "       'Status_single', 'Years_Employments_mid', 'Years_Employments_short',\n",
       "       'Years_Employments_unemployed', 'Saving_Status_low',\n",
       "       'Saving_Status_medium', 'Credit_Purpose_car',\n",
       "       'Credit_Purpose_education', 'Credit_Purpose_electronics',\n",
       "       'Credit_Purpose_household', 'Credit_Purpose_other',\n",
       "       'Credit_history_critical', 'Credit_history_good',\n",
       "       'Credit_history_poor'],\n",
       "      dtype='object')"
      ]
     },
     "execution_count": 28,
     "metadata": {},
     "output_type": "execute_result"
    }
   ],
   "source": [
    "X.columns"
   ]
  },
  {
   "cell_type": "code",
   "execution_count": 29,
   "metadata": {},
   "outputs": [
    {
     "name": "stdout",
     "output_type": "stream",
     "text": [
      "taille de X : (1000, 29)\n",
      "taille de y : (1000,)\n"
     ]
    }
   ],
   "source": [
    "print('taille de X :',  X.shape)\n",
    "print('taille de y :',  y.shape)"
   ]
  },
  {
   "cell_type": "code",
   "execution_count": 30,
   "metadata": {},
   "outputs": [
    {
     "name": "stdout",
     "output_type": "stream",
     "text": [
      "taille de X_train : (800, 29)\n",
      "taille de y_train : (800,)\n",
      "taille de X_test : (200, 29)\n",
      "taille de y_test : (200,)\n"
     ]
    }
   ],
   "source": [
    "X_train, X_test, y_train, y_test = train_test_split(X, y, test_size=0.2, random_state=42)\n",
    "\n",
    "print('taille de X_train :',  X_train.shape)\n",
    "print('taille de y_train :',  y_train.shape) \n",
    "print('taille de X_test :',  X_test.shape)\n",
    "print('taille de y_test :',  y_test.shape)"
   ]
  },
  {
   "cell_type": "markdown",
   "metadata": {},
   "source": [
    "Suréchantillonnage avec `SMOTE` pour équilibrer les modalité de y "
   ]
  },
  {
   "cell_type": "code",
   "execution_count": 31,
   "metadata": {},
   "outputs": [
    {
     "name": "stdout",
     "output_type": "stream",
     "text": [
      "Avant SMOTE : (800, 29) {0: 559, 1: 241}\n",
      "Après SMOTE : (1118, 29) {1: 559, 0: 559}\n"
     ]
    }
   ],
   "source": [
    "# pip install imbalanced-learn\n",
    "from imblearn.over_sampling import SMOTE\n",
    "\n",
    "smote = SMOTE(random_state=42)\n",
    "X_train_res, y_train_res = smote.fit_resample(X_train, y_train)\n",
    "\n",
    "print(\"Avant SMOTE :\", X_train.shape, y_train.value_counts().to_dict())\n",
    "print(\"Après SMOTE :\", X_train_res.shape, pd.Series(y_train_res).value_counts().to_dict())\n"
   ]
  },
  {
   "cell_type": "code",
   "execution_count": 32,
   "metadata": {},
   "outputs": [
    {
     "data": {
      "text/plain": [
       "Checking_Account_Status\n",
       "1    559\n",
       "0    559\n",
       "Name: count, dtype: int64"
      ]
     },
     "execution_count": 32,
     "metadata": {},
     "output_type": "execute_result"
    }
   ],
   "source": [
    "y_train_res.value_counts()"
   ]
  },
  {
   "cell_type": "code",
   "execution_count": 33,
   "metadata": {},
   "outputs": [
    {
     "data": {
      "text/plain": [
       "Index(['Credit_amount', 'Installment_Rate_Percent', 'Residence_Years', 'Age',\n",
       "       'Num_Existing_Credits', 'Liable_People',\n",
       "       'Other_debtors_guarantors_guarantor', 'Other_debtors_guarantors_none',\n",
       "       'Property_life insurance', 'Property_no known property',\n",
       "       'Property_real estate', 'Other_Inst_Plans_none',\n",
       "       'Other_Inst_Plans_stores', 'Job_skilled', 'Job_unskilled',\n",
       "       'Status_single', 'Years_Employments_mid', 'Years_Employments_short',\n",
       "       'Years_Employments_unemployed', 'Saving_Status_low',\n",
       "       'Saving_Status_medium', 'Credit_Purpose_car',\n",
       "       'Credit_Purpose_education', 'Credit_Purpose_electronics',\n",
       "       'Credit_Purpose_household', 'Credit_Purpose_other',\n",
       "       'Credit_history_critical', 'Credit_history_good',\n",
       "       'Credit_history_poor'],\n",
       "      dtype='object')"
      ]
     },
     "execution_count": 33,
     "metadata": {},
     "output_type": "execute_result"
    }
   ],
   "source": [
    "X_train_res.columns"
   ]
  },
  {
   "cell_type": "markdown",
   "metadata": {},
   "source": [
    "**Entrainement des modèles**"
   ]
  },
  {
   "cell_type": "code",
   "execution_count": 34,
   "metadata": {},
   "outputs": [],
   "source": [
    "from sklearn.linear_model import LogisticRegression\n",
    "from sklearn.ensemble import RandomForestClassifier\n",
    "from sklearn.tree import DecisionTreeClassifier\n",
    "from xgboost import XGBClassifier\n",
    "from sklearn.metrics import classification_report, confusion_matrix, accuracy_score\n",
    "import xgboost as xgb"
   ]
  },
  {
   "cell_type": "markdown",
   "metadata": {},
   "source": [
    "Regression Logistique "
   ]
  },
  {
   "cell_type": "code",
   "execution_count": 35,
   "metadata": {},
   "outputs": [
    {
     "name": "stdout",
     "output_type": "stream",
     "text": [
      "LogisticRegression Accuracy: 0.685\n",
      "Confusion Matrix:\n",
      " [[104  37]\n",
      " [ 26  33]]\n",
      "Classification Report:\n",
      "               precision    recall  f1-score   support\n",
      "\n",
      "           0       0.80      0.74      0.77       141\n",
      "           1       0.47      0.56      0.51        59\n",
      "\n",
      "    accuracy                           0.69       200\n",
      "   macro avg       0.64      0.65      0.64       200\n",
      "weighted avg       0.70      0.69      0.69       200\n",
      "\n"
     ]
    }
   ],
   "source": [
    "# Création du modèle de régression logistique\n",
    "log_reg = LogisticRegression()\n",
    "\n",
    "# Entraînement du modèle\n",
    "log_reg.fit(X_train_res, y_train_res)\n",
    "\n",
    "# Prédiction sur les données de test\n",
    "y_pred = log_reg.predict(X_test)\n",
    "\n",
    "# Évaluation du modèle\n",
    "accuracy = accuracy_score(y_test, y_pred)\n",
    "conf_matrix = confusion_matrix(y_test, y_pred)\n",
    "report = classification_report(y_test, y_pred)\n",
    "\n",
    "print(\"LogisticRegression Accuracy:\", accuracy)\n",
    "print(\"Confusion Matrix:\\n\", conf_matrix)\n",
    "print(\"Classification Report:\\n\", report)"
   ]
  },
  {
   "cell_type": "markdown",
   "metadata": {},
   "source": [
    "Random Forest"
   ]
  },
  {
   "cell_type": "code",
   "execution_count": 36,
   "metadata": {},
   "outputs": [
    {
     "name": "stdout",
     "output_type": "stream",
     "text": [
      "Random Forest Accuracy: 0.665\n",
      "Confusion Matrix:\n",
      " [[116  25]\n",
      " [ 42  17]]\n",
      "Classification Report:\n",
      "               precision    recall  f1-score   support\n",
      "\n",
      "           0       0.73      0.82      0.78       141\n",
      "           1       0.40      0.29      0.34        59\n",
      "\n",
      "    accuracy                           0.67       200\n",
      "   macro avg       0.57      0.56      0.56       200\n",
      "weighted avg       0.64      0.67      0.65       200\n",
      "\n"
     ]
    }
   ],
   "source": [
    "# Création et entraînement du modèle Random Forest\n",
    "random_forest = RandomForestClassifier(n_estimators=100, random_state=42)\n",
    "random_forest.fit(X_train_res, y_train_res)\n",
    "\n",
    "# Prédiction sur l'ensemble de test\n",
    "y_pred_rf = random_forest.predict(X_test)\n",
    "\n",
    "# Évaluation du modèle Random Forest\n",
    "accuracy_rf = accuracy_score(y_test, y_pred_rf)\n",
    "conf_matrix_rf = confusion_matrix(y_test, y_pred_rf)\n",
    "report_rf = classification_report(y_test, y_pred_rf)\n",
    "\n",
    "print(\"Random Forest Accuracy:\", accuracy_rf)\n",
    "print(\"Confusion Matrix:\\n\", conf_matrix_rf)\n",
    "print(\"Classification Report:\\n\", report_rf)"
   ]
  },
  {
   "cell_type": "markdown",
   "metadata": {},
   "source": [
    "Decision Tree"
   ]
  },
  {
   "cell_type": "code",
   "execution_count": 37,
   "metadata": {},
   "outputs": [
    {
     "name": "stdout",
     "output_type": "stream",
     "text": [
      "Decision Tree Accuracy: 0.635\n",
      "Confusion Matrix:\n",
      " [[99 42]\n",
      " [31 28]]\n",
      "Classification Report:\n",
      "               precision    recall  f1-score   support\n",
      "\n",
      "           0       0.76      0.70      0.73       141\n",
      "           1       0.40      0.47      0.43        59\n",
      "\n",
      "    accuracy                           0.64       200\n",
      "   macro avg       0.58      0.59      0.58       200\n",
      "weighted avg       0.65      0.64      0.64       200\n",
      "\n"
     ]
    }
   ],
   "source": [
    "# Création et entraînement du modèle Arbre de Décision\n",
    "decision_tree = DecisionTreeClassifier(random_state=42)\n",
    "decision_tree.fit(X_train_res, y_train_res)\n",
    "\n",
    "# Prédiction sur l'ensemble de test\n",
    "y_pred_dt = decision_tree.predict(X_test)\n",
    "\n",
    "# Évaluation du modèle Arbre de Décision\n",
    "accuracy_dt = accuracy_score(y_test, y_pred_dt)\n",
    "conf_matrix_dt = confusion_matrix(y_test, y_pred_dt)\n",
    "report_dt = classification_report(y_test, y_pred_dt)\n",
    "\n",
    "print(\"Decision Tree Accuracy:\", accuracy_dt)\n",
    "print(\"Confusion Matrix:\\n\", conf_matrix_dt)\n",
    "print(\"Classification Report:\\n\", report_dt)"
   ]
  },
  {
   "cell_type": "markdown",
   "metadata": {},
   "source": [
    "Xgboost"
   ]
  },
  {
   "cell_type": "code",
   "execution_count": 38,
   "metadata": {},
   "outputs": [
    {
     "name": "stdout",
     "output_type": "stream",
     "text": [
      "XGBoost Accuracy: 0.69\n",
      "Confusion Matrix:\n",
      " [[115  26]\n",
      " [ 36  23]]\n",
      "Classification Report:\n",
      "               precision    recall  f1-score   support\n",
      "\n",
      "           0       0.76      0.82      0.79       141\n",
      "           1       0.47      0.39      0.43        59\n",
      "\n",
      "    accuracy                           0.69       200\n",
      "   macro avg       0.62      0.60      0.61       200\n",
      "weighted avg       0.68      0.69      0.68       200\n",
      "\n"
     ]
    }
   ],
   "source": [
    "# Création et entraînement du modèle XGBoost\n",
    "xgb_model = xgb.XGBClassifier(use_label_encoder=False, eval_metric='mlogloss', random_state=42)\n",
    "xgb_model.fit(X_train_res, y_train_res)\n",
    "\n",
    "# Prédiction sur l'ensemble de test\n",
    "y_pred_xgb = xgb_model.predict(X_test)\n",
    "\n",
    "# Évaluation du modèle XGBoost\n",
    "accuracy_xgb = accuracy_score(y_test, y_pred_xgb)\n",
    "conf_matrix_xgb = confusion_matrix(y_test, y_pred_xgb)\n",
    "report_xgb = classification_report(y_test, y_pred_xgb)\n",
    "\n",
    "print(\"XGBoost Accuracy:\", accuracy_xgb)\n",
    "print(\"Confusion Matrix:\\n\", conf_matrix_xgb)\n",
    "print(\"Classification Report:\\n\", report_xgb)"
   ]
  },
  {
   "cell_type": "markdown",
   "metadata": {},
   "source": [
    "**Résultats**"
   ]
  },
  {
   "cell_type": "code",
   "execution_count": 39,
   "metadata": {},
   "outputs": [
    {
     "data": {
      "text/html": [
       "<div>\n",
       "<style scoped>\n",
       "    .dataframe tbody tr th:only-of-type {\n",
       "        vertical-align: middle;\n",
       "    }\n",
       "\n",
       "    .dataframe tbody tr th {\n",
       "        vertical-align: top;\n",
       "    }\n",
       "\n",
       "    .dataframe thead th {\n",
       "        text-align: right;\n",
       "    }\n",
       "</style>\n",
       "<table border=\"1\" class=\"dataframe\">\n",
       "  <thead>\n",
       "    <tr style=\"text-align: right;\">\n",
       "      <th></th>\n",
       "      <th>Modèle</th>\n",
       "      <th>Accuracy</th>\n",
       "      <th>Precision (1)</th>\n",
       "      <th>Recall (1)</th>\n",
       "      <th>F1-score (1)</th>\n",
       "    </tr>\n",
       "  </thead>\n",
       "  <tbody>\n",
       "    <tr>\n",
       "      <th>0</th>\n",
       "      <td>Logistic Regression</td>\n",
       "      <td>0.685</td>\n",
       "      <td>0.47</td>\n",
       "      <td>0.56</td>\n",
       "      <td>0.51</td>\n",
       "    </tr>\n",
       "    <tr>\n",
       "      <th>1</th>\n",
       "      <td>Random Forest</td>\n",
       "      <td>0.665</td>\n",
       "      <td>0.40</td>\n",
       "      <td>0.29</td>\n",
       "      <td>0.34</td>\n",
       "    </tr>\n",
       "    <tr>\n",
       "      <th>2</th>\n",
       "      <td>Decision Tree</td>\n",
       "      <td>0.635</td>\n",
       "      <td>0.40</td>\n",
       "      <td>0.47</td>\n",
       "      <td>0.43</td>\n",
       "    </tr>\n",
       "    <tr>\n",
       "      <th>3</th>\n",
       "      <td>XGBoost</td>\n",
       "      <td>0.690</td>\n",
       "      <td>0.47</td>\n",
       "      <td>0.39</td>\n",
       "      <td>0.43</td>\n",
       "    </tr>\n",
       "  </tbody>\n",
       "</table>\n",
       "</div>"
      ],
      "text/plain": [
       "                Modèle  Accuracy  Precision (1)  Recall (1)  F1-score (1)\n",
       "0  Logistic Regression     0.685           0.47        0.56          0.51\n",
       "1        Random Forest     0.665           0.40        0.29          0.34\n",
       "2        Decision Tree     0.635           0.40        0.47          0.43\n",
       "3              XGBoost     0.690           0.47        0.39          0.43"
      ]
     },
     "execution_count": 39,
     "metadata": {},
     "output_type": "execute_result"
    }
   ],
   "source": [
    "\n",
    "# Créer un tableau de résultats à la main\n",
    "results = [\n",
    "    {\n",
    "        \"Modèle\": \"Logistic Regression\",\n",
    "        \"Accuracy\": 0.685,\n",
    "        \"Precision (1)\": 0.47,\n",
    "        \"Recall (1)\": 0.56,\n",
    "        \"F1-score (1)\": 0.51\n",
    "    },\n",
    "    {\n",
    "        \"Modèle\": \"Random Forest\",\n",
    "        \"Accuracy\": 0.665,\n",
    "        \"Precision (1)\": 0.40,\n",
    "        \"Recall (1)\": 0.29,\n",
    "        \"F1-score (1)\": 0.34\n",
    "    },\n",
    "    {\n",
    "        \"Modèle\": \"Decision Tree\",\n",
    "        \"Accuracy\": 0.635,\n",
    "        \"Precision (1)\": 0.40,\n",
    "        \"Recall (1)\": 0.47,\n",
    "        \"F1-score (1)\": 0.43\n",
    "    },\n",
    "    {\n",
    "        \"Modèle\": \"XGBoost\",\n",
    "        \"Accuracy\": 0.690,\n",
    "        \"Precision (1)\": 0.47,\n",
    "        \"Recall (1)\": 0.39,\n",
    "        \"F1-score (1)\": 0.43\n",
    "    }\n",
    "]\n",
    "\n",
    "# Création du DataFrame\n",
    "df_models = pd.DataFrame(results)\n",
    "\n",
    "# Affichage\n",
    "df_models\n"
   ]
  },
  {
   "cell_type": "code",
   "execution_count": 45,
   "metadata": {},
   "outputs": [],
   "source": [
    "#df_models.to_markdown"
   ]
  },
  {
   "cell_type": "code",
   "execution_count": 213,
   "metadata": {},
   "outputs": [
    {
     "data": {
      "image/png": "[encoded data removed]",
      "text/plain": [
       "<Figure size 1000x600 with 1 Axes>"
      ]
     },
     "metadata": {},
     "output_type": "display_data"
    }
   ],
   "source": [
    "results = {\n",
    "    'Logistic Regression': {'Accuracy': 0.685, 'Recall': 0.56, 'F1-score': 0.51},\n",
    "    'Random Forest': {'Accuracy': 0.665, 'Recall': 0.29, 'F1-score': 0.34},\n",
    "    'Decision Tree': {'Accuracy': 0.635, 'Recall': 0.47, 'F1-score': 0.43},\n",
    "    'XGBoost': {'Accuracy': 0.690, 'Recall': 0.39, 'F1-score': 0.43}\n",
    "}\n",
    "\n",
    "# Transformation en DataFrame\n",
    "df_scores = pd.DataFrame(results).T.reset_index().rename(columns={'index': 'Modèle'})\n",
    "\n",
    "# Transformation pour seaborn (long format)\n",
    "df_long = df_scores.melt(id_vars='Modèle', var_name='Métrique', value_name='Score')\n",
    "\n",
    "# Création du plot\n",
    "plt.figure(figsize=(10, 6))\n",
    "ax = sns.barplot(data=df_long, x='Modèle', y='Score', hue='Métrique')\n",
    "\n",
    "# Affichage des valeurs sur les barres\n",
    "for container in ax.containers:\n",
    "    ax.bar_label(container, fmt='%.2f', label_type='edge', padding=3)\n",
    "\n",
    "plt.title('Comparaison des performances des modèles')\n",
    "plt.ylim(0, 1)\n",
    "plt.ylabel('Score')\n",
    "plt.xticks(rotation=15)\n",
    "plt.legend(title='Métrique')\n",
    "plt.tight_layout()\n",
    "plt.show()"
   ]
  },
  {
   "cell_type": "markdown",
   "metadata": {},
   "source": [
    "**Commentaires**\n",
    "\n",
    "\n",
    "✅ Logistic Regression :\n",
    "Le meilleur compromis entre recall, precision et F1-score sur la classe 1\n",
    "\n",
    "Recall (0.56) → il détecte plus de \"bad\" que les autres\n",
    "\n",
    "C’est un modèle simple et robuste, qui semble très bien s’en sortir ici\n",
    "\n",
    "✅ XGBoost :\n",
    "Meilleure accuracy générale (0.690)\n",
    "\n",
    "Mais recall plus faible (0.39) → il rate plus de \"bad\"\n",
    "\n",
    "F1-score correct (0.43) → mais un peu en dessous de la régression logistique\n",
    "\n",
    "⚠️ Random Forest :\n",
    "Recall très faible (0.29) → il rate 71% des \"bad\"\n",
    "\n",
    "F1-score le plus bas\n",
    "\n",
    "Pas fiable pour ton objectif\n",
    "\n",
    "⚠️ Decision Tree :\n",
    "Recall correct (0.47), mieux que RF\n",
    "\n",
    "Mais f1-score moyen (0.43)\n",
    "\n",
    "Peut être utile comme base, mais moins performant que logistic/XGB\n",
    "\n"
   ]
  },
  {
   "cell_type": "markdown",
   "metadata": {},
   "source": [
    "Courbe ROC "
   ]
  },
  {
   "cell_type": "code",
   "execution_count": 214,
   "metadata": {},
   "outputs": [
    {
     "data": {
      "image/png": "[encoded data removed]",
      "text/plain": [
       "<Figure size 1000x700 with 1 Axes>"
      ]
     },
     "metadata": {},
     "output_type": "display_data"
    }
   ],
   "source": [
    "from sklearn.metrics import roc_curve, roc_auc_score\n",
    "import matplotlib.pyplot as plt\n",
    "\n",
    "# Calcul des probabilités pour chaque modèle\n",
    "y_proba_logreg = log_reg.predict_proba(X_test)[:, 1]\n",
    "y_proba_rf     = random_forest .predict_proba(X_test)[:, 1]\n",
    "y_proba_dt     = decision_tree.predict_proba(X_test)[:, 1]\n",
    "y_proba_xgb    = xgb_model.predict_proba(X_test)[:, 1]\n",
    "\n",
    "# Calcul des courbes ROC\n",
    "fpr_logreg, tpr_logreg, _ = roc_curve(y_test, y_proba_logreg)\n",
    "fpr_rf, tpr_rf, _ = roc_curve(y_test, y_proba_rf)\n",
    "fpr_dt, tpr_dt, _ = roc_curve(y_test, y_proba_dt)\n",
    "fpr_xgb, tpr_xgb, _ = roc_curve(y_test, y_proba_xgb)\n",
    "\n",
    "# Calcul des AUC\n",
    "auc_logreg = roc_auc_score(y_test, y_proba_logreg)\n",
    "auc_rf = roc_auc_score(y_test, y_proba_rf)\n",
    "auc_dt = roc_auc_score(y_test, y_proba_dt)\n",
    "auc_xgb = roc_auc_score(y_test, y_proba_xgb)\n",
    "\n",
    "# Tracer les courbes ROC\n",
    "plt.figure(figsize=(10, 7))\n",
    "plt.plot(fpr_logreg, tpr_logreg, label=f'Logistic Regression (AUC = {auc_logreg:.2f})')\n",
    "plt.plot(fpr_rf, tpr_rf, label=f'Random Forest (AUC = {auc_rf:.2f})')\n",
    "plt.plot(fpr_dt, tpr_dt, label=f'Decision Tree (AUC = {auc_dt:.2f})')\n",
    "plt.plot(fpr_xgb, tpr_xgb, label=f'XGBoost (AUC = {auc_xgb:.2f})')\n",
    "\n",
    "# Ligne diagonale\n",
    "plt.plot([0, 1], [0, 1], 'k--', label='Random')\n",
    "\n",
    "plt.xlabel('Taux de faux positifs (FPR)')\n",
    "plt.ylabel('Taux de vrais positifs (TPR)')\n",
    "plt.title('Courbes ROC comparées des modèles')\n",
    "plt.legend(loc='lower right')\n",
    "plt.grid(True)\n",
    "plt.show()\n"
   ]
  },
  {
   "cell_type": "markdown",
   "metadata": {},
   "source": [
    "**Sauvegarde du modèle regression logistic**"
   ]
  },
  {
   "cell_type": "code",
   "execution_count": 216,
   "metadata": {},
   "outputs": [
    {
     "data": {
      "text/plain": [
       "['features_columns.pkl']"
      ]
     },
     "execution_count": 216,
     "metadata": {},
     "output_type": "execute_result"
    }
   ],
   "source": [
    "import joblib\n",
    "\n",
    "# Sauvegarde du modèle\n",
    "joblib.dump(log_reg, \"logistic_model.pkl\")\n",
    "joblib.dump(scaler, \"scaler.pkl\")  # si tu normalises\n",
    "joblib.dump(list(X.columns), \"features_columns.pkl\")"
   ]
  },
  {
   "cell_type": "code",
   "execution_count": 218,
   "metadata": {},
   "outputs": [],
   "source": [
    "#X.columns"
   ]
  },
  {
   "cell_type": "code",
   "execution_count": null,
   "metadata": {},
   "outputs": [
    {
     "data": {
      "text/plain": [
       "['Credit_amount',\n",
       " 'Installment_Rate_Percent',\n",
       " 'Residence_Years',\n",
       " 'Age',\n",
       " 'Num_Existing_Credits',\n",
       " 'Liable_People',\n",
       " 'Other_debtors_guarantors_guarantor',\n",
       " 'Other_debtors_guarantors_none',\n",
       " 'Property_life insurance',\n",
       " 'Property_no known property',\n",
       " 'Property_real estate',\n",
       " 'Other_Inst_Plans_none',\n",
       " 'Other_Inst_Plans_stores',\n",
       " 'Job_skilled',\n",
       " 'Job_unskilled',\n",
       " 'Status_single',\n",
       " 'Years_Employments_mid',\n",
       " 'Years_Employments_short',\n",
       " 'Years_Employments_unemployed',\n",
       " 'Saving_Status_low',\n",
       " 'Saving_Status_medium',\n",
       " 'Credit_Purpose_car',\n",
       " 'Credit_Purpose_education',\n",
       " 'Credit_Purpose_electronics',\n",
       " 'Credit_Purpose_household',\n",
       " 'Credit_Purpose_other',\n",
       " 'Credit_history_critical',\n",
       " 'Credit_history_good',\n",
       " 'Credit_history_poor']"
      ]
     },
     "execution_count": 217,
     "metadata": {},
     "output_type": "execute_result"
    }
   ],
   "source": [
    "features_columns = joblib.load('features_columns.pkl')\n",
    "features_columns"
   ]
  },
  {
   "cell_type": "code",
   "execution_count": 223,
   "metadata": {},
   "outputs": [
    {
     "data": {
      "text/plain": [
       "Index(['Credit_amount', 'Installment_Rate_Percent', 'Residence_Years', 'Age',\n",
       "       'Num_Existing_Credits', 'Liable_People',\n",
       "       'Other_debtors_guarantors_guarantor', 'Other_debtors_guarantors_none',\n",
       "       'Property_life insurance', 'Property_no known property',\n",
       "       'Property_real estate', 'Other_Inst_Plans_none',\n",
       "       'Other_Inst_Plans_stores', 'Job_skilled', 'Job_unskilled',\n",
       "       'Status_single', 'Years_Employments_mid', 'Years_Employments_short',\n",
       "       'Years_Employments_unemployed', 'Saving_Status_low',\n",
       "       'Saving_Status_medium', 'Credit_Purpose_car',\n",
       "       'Credit_Purpose_education', 'Credit_Purpose_electronics',\n",
       "       'Credit_Purpose_household', 'Credit_Purpose_other',\n",
       "       'Credit_history_critical', 'Credit_history_good',\n",
       "       'Credit_history_poor'],\n",
       "      dtype='object')"
      ]
     },
     "execution_count": 223,
     "metadata": {},
     "output_type": "execute_result"
    }
   ],
   "source": [
    "X.columns"
   ]
  },
  {
   "cell_type": "markdown",
   "metadata": {},
   "source": [
    "Regression Logistique "
   ]
  },
  {
   "cell_type": "code",
   "execution_count": 219,
   "metadata": {},
   "outputs": [
    {
     "data": {
      "image/png": "[encoded data removed]",
      "text/plain": [
       "<Figure size 1000x600 with 1 Axes>"
      ]
     },
     "metadata": {},
     "output_type": "display_data"
    }
   ],
   "source": [
    "coefficients = log_reg.coef_[0] \n",
    "feature_names = X.columns\n",
    "\n",
    "# Création d'un DataFrame avec les coefficients\n",
    "coef_df = pd.DataFrame({\n",
    "    'Feature': feature_names,\n",
    "    'Coefficient': coefficients,\n",
    "    'AbsCoefficient': np.abs(coefficients)\n",
    "})\n",
    "\n",
    "# Tri des 15 plus importants\n",
    "top15 = coef_df.sort_values(by='AbsCoefficient', ascending=False).head(15)\n",
    "\n",
    "# Affichage\n",
    "#print(top15[['Feature', 'Coefficient']])\n",
    "\n",
    "# Visualisation\n",
    "plt.figure(figsize=(10, 6))\n",
    "bars = plt.barh(top15['Feature'], top15['Coefficient'])\n",
    "plt.xlabel(\"Coefficient\")\n",
    "plt.title(\"Top 15 Features - Logistic Regression\")\n",
    "plt.gca().invert_yaxis()  # Pour que la plus grande soit en haut\n",
    "plt.grid(True, linestyle='--', alpha=0.6)\n",
    "plt.tight_layout()\n",
    "plt.show()\n"
   ]
  }
 ],
 "metadata": {
  "kernelspec": {
   "display_name": "venv",
   "language": "python",
   "name": "python3"
  },
  "language_info": {
   "codemirror_mode": {
    "name": "ipython",
    "version": 3
   },
   "file_extension": ".py",
   "mimetype": "text/x-python",
   "name": "python",
   "nbconvert_exporter": "python",
   "pygments_lexer": "ipython3",
   "version": "3.13.2"
  }
 },
 "nbformat": 4,
 "nbformat_minor": 2
}
